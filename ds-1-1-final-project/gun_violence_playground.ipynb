{
 "cells": [
  {
   "cell_type": "markdown",
   "metadata": {},
   "source": [
    "# DS 1.1 Playground: _Gun Violence_\n",
    "\n",
    "***"
   ]
  },
  {
   "cell_type": "markdown",
   "metadata": {},
   "source": [
    "## DS Process - Modified Step #1: `Get Data`"
   ]
  },
  {
   "cell_type": "markdown",
   "metadata": {},
   "source": [
    "### Import Statements and Initializations"
   ]
  },
  {
   "cell_type": "code",
   "execution_count": 44,
   "metadata": {},
   "outputs": [],
   "source": [
    "import numpy as np                 # NumPy: Numerical Python -- Direct Operations on Numerical Data\n",
    "import pandas as pd                # Data Manipulation Library -- High-Power, High-Computation\n",
    "import seaborn as sns              # Basic Data Visualization Library -- Beautiful but Inflexible\n",
    "import matplotlib.pyplot as plt    # Adv. Data Visualization Library -- Flexible but Complex\n",
    "import scipy.stats as stats        # Statistical Analysis Package -- Advanced Data Analysis\n",
    "\n",
    "pd.options.display.max_colwidth = 5000"
   ]
  },
  {
   "cell_type": "code",
   "execution_count": null,
   "metadata": {},
   "outputs": [],
   "source": []
  },
  {
   "cell_type": "code",
   "execution_count": 2,
   "metadata": {},
   "outputs": [],
   "source": [
    "PATH = \"./gun-violence-data_01-2013_03-2018.csv\"\n",
    "\n",
    "df = pd.read_csv(PATH)"
   ]
  },
  {
   "cell_type": "markdown",
   "metadata": {},
   "source": [
    "Pandas is _automatically hiding_ some columns for displaying/rendering purposes. Be sure to explore **ALL** of our data!"
   ]
  },
  {
   "cell_type": "markdown",
   "metadata": {},
   "source": [
    "## DS Process - Modified Step #2: `Ask Question(s)`"
   ]
  },
  {
   "cell_type": "markdown",
   "metadata": {},
   "source": [
    "### Looking at Data Features (Columns)"
   ]
  },
  {
   "cell_type": "code",
   "execution_count": 3,
   "metadata": {},
   "outputs": [
    {
     "data": {
      "text/plain": [
       "Index(['incident_id', 'date', 'state', 'city_or_county', 'address', 'n_killed',\n",
       "       'n_injured', 'incident_url', 'source_url',\n",
       "       'incident_url_fields_missing', 'congressional_district', 'gun_stolen',\n",
       "       'gun_type', 'incident_characteristics', 'latitude',\n",
       "       'location_description', 'longitude', 'n_guns_involved', 'notes',\n",
       "       'participant_age', 'participant_age_group', 'participant_gender',\n",
       "       'participant_name', 'participant_relationship', 'participant_status',\n",
       "       'participant_type', 'sources', 'state_house_district',\n",
       "       'state_senate_district'],\n",
       "      dtype='object')"
      ]
     },
     "execution_count": 3,
     "metadata": {},
     "output_type": "execute_result"
    }
   ],
   "source": [
    "features = df.columns\n",
    "features"
   ]
  },
  {
   "cell_type": "markdown",
   "metadata": {},
   "source": [
    "**ASSERTION**: `n_killed` and `n_injured` are powerful _target features_ for basic data questioning."
   ]
  },
  {
   "cell_type": "markdown",
   "metadata": {},
   "source": [
    "### OVERARCHING QUESTIONS:\n",
    "\n",
    "* What significance does the political affiliation (D/R) of the current president have on a given year's overall gun violence?\n",
    "\n",
    "  - (EXTERNAL DATA MANIPULATION) Needs new column mapping political affiliation of current president per year. \n",
    "\n",
    "\n",
    "* What significance does the political affiliation (D/R) of a given state have on the state's overall gun violence?\n",
    "\n",
    "  - (EXTERNAL DATA MANIPULATION) Needs new column mapping political affiliation of state governor per state per year. "
   ]
  },
  {
   "cell_type": "markdown",
   "metadata": {},
   "source": [
    "### BASIC DATA QUESTIONS:\n",
    "\n",
    "* What is the relationship between `n_guns_involved_` and `n_killed`/`n_injured` across our data?\n",
    "* What is the relationship between `participant_gender` and `n_killed`/`n_injured` across our data?\n",
    "* What is the relationship between `participant_age_group` and `n_killed`/`n_injured` across our data?\n",
    "* What is the relationship between `state` and `n_killed`/`n_injured` across our data?"
   ]
  },
  {
   "cell_type": "markdown",
   "metadata": {},
   "source": [
    "## DS Process - Step #3: `Explore Data`"
   ]
  },
  {
   "cell_type": "markdown",
   "metadata": {},
   "source": [
    "### First Look at Our Data"
   ]
  },
  {
   "cell_type": "code",
   "execution_count": 13,
   "metadata": {},
   "outputs": [
    {
     "data": {
      "text/html": [
       "<div>\n",
       "<style scoped>\n",
       "    .dataframe tbody tr th:only-of-type {\n",
       "        vertical-align: middle;\n",
       "    }\n",
       "\n",
       "    .dataframe tbody tr th {\n",
       "        vertical-align: top;\n",
       "    }\n",
       "\n",
       "    .dataframe thead th {\n",
       "        text-align: right;\n",
       "    }\n",
       "</style>\n",
       "<table border=\"1\" class=\"dataframe\">\n",
       "  <thead>\n",
       "    <tr style=\"text-align: right;\">\n",
       "      <th></th>\n",
       "      <th>date</th>\n",
       "      <th>state</th>\n",
       "      <th>city_or_county</th>\n",
       "      <th>n_killed</th>\n",
       "      <th>n_injured</th>\n",
       "      <th>gun_stolen</th>\n",
       "      <th>gun_type</th>\n",
       "      <th>incident_characteristics</th>\n",
       "      <th>location_description</th>\n",
       "      <th>n_guns_involved</th>\n",
       "      <th>participant_age</th>\n",
       "      <th>participant_age_group</th>\n",
       "      <th>participant_gender</th>\n",
       "      <th>participant_name</th>\n",
       "      <th>participant_relationship</th>\n",
       "      <th>participant_status</th>\n",
       "      <th>participant_type</th>\n",
       "    </tr>\n",
       "  </thead>\n",
       "  <tbody>\n",
       "    <tr>\n",
       "      <th>0</th>\n",
       "      <td>2013-01-01</td>\n",
       "      <td>Pennsylvania</td>\n",
       "      <td>Mckeesport</td>\n",
       "      <td>0</td>\n",
       "      <td>4</td>\n",
       "      <td>NaN</td>\n",
       "      <td>NaN</td>\n",
       "      <td>Shot - Wounded/Injured||Mass Shooting (4+ victims injured or killed excluding the subject/suspect/perpetrator, one location)||Possession (gun(s) found during commission of other crimes)||Possession of gun by felon or prohibited person</td>\n",
       "      <td>NaN</td>\n",
       "      <td>NaN</td>\n",
       "      <td>0::20</td>\n",
       "      <td>0::Adult 18+||1::Adult 18+||2::Adult 18+||3::Adult 18+||4::Adult 18+</td>\n",
       "      <td>0::Male||1::Male||3::Male||4::Female</td>\n",
       "      <td>0::Julian Sims</td>\n",
       "      <td>NaN</td>\n",
       "      <td>0::Arrested||1::Injured||2::Injured||3::Injured||4::Injured</td>\n",
       "      <td>0::Victim||1::Victim||2::Victim||3::Victim||4::Subject-Suspect</td>\n",
       "    </tr>\n",
       "    <tr>\n",
       "      <th>1</th>\n",
       "      <td>2013-01-01</td>\n",
       "      <td>California</td>\n",
       "      <td>Hawthorne</td>\n",
       "      <td>1</td>\n",
       "      <td>3</td>\n",
       "      <td>NaN</td>\n",
       "      <td>NaN</td>\n",
       "      <td>Shot - Wounded/Injured||Shot - Dead (murder, accidental, suicide)||Mass Shooting (4+ victims injured or killed excluding the subject/suspect/perpetrator, one location)||Gang involvement</td>\n",
       "      <td>NaN</td>\n",
       "      <td>NaN</td>\n",
       "      <td>0::20</td>\n",
       "      <td>0::Adult 18+||1::Adult 18+||2::Adult 18+||3::Adult 18+</td>\n",
       "      <td>0::Male</td>\n",
       "      <td>0::Bernard Gillis</td>\n",
       "      <td>NaN</td>\n",
       "      <td>0::Killed||1::Injured||2::Injured||3::Injured</td>\n",
       "      <td>0::Victim||1::Victim||2::Victim||3::Victim||4::Subject-Suspect</td>\n",
       "    </tr>\n",
       "    <tr>\n",
       "      <th>2</th>\n",
       "      <td>2013-01-01</td>\n",
       "      <td>Ohio</td>\n",
       "      <td>Lorain</td>\n",
       "      <td>1</td>\n",
       "      <td>3</td>\n",
       "      <td>0::Unknown||1::Unknown</td>\n",
       "      <td>0::Unknown||1::Unknown</td>\n",
       "      <td>Shot - Wounded/Injured||Shot - Dead (murder, accidental, suicide)||Shots Fired - No Injuries||Bar/club incident - in or around establishment</td>\n",
       "      <td>Cotton Club</td>\n",
       "      <td>2.0</td>\n",
       "      <td>0::25||1::31||2::33||3::34||4::33</td>\n",
       "      <td>0::Adult 18+||1::Adult 18+||2::Adult 18+||3::Adult 18+||4::Adult 18+</td>\n",
       "      <td>0::Male||1::Male||2::Male||3::Male||4::Male</td>\n",
       "      <td>0::Damien Bell||1::Desmen Noble||2::Herman Seagers||3::Ladd Tate Sr||4::Tallis Moore</td>\n",
       "      <td>NaN</td>\n",
       "      <td>0::Injured, Unharmed, Arrested||1::Unharmed, Arrested||2::Killed||3::Injured||4::Injured</td>\n",
       "      <td>0::Subject-Suspect||1::Subject-Suspect||2::Victim||3::Victim||4::Victim</td>\n",
       "    </tr>\n",
       "    <tr>\n",
       "      <th>3</th>\n",
       "      <td>2013-01-05</td>\n",
       "      <td>Colorado</td>\n",
       "      <td>Aurora</td>\n",
       "      <td>4</td>\n",
       "      <td>0</td>\n",
       "      <td>NaN</td>\n",
       "      <td>NaN</td>\n",
       "      <td>Shot - Dead (murder, accidental, suicide)||Officer Involved Incident||Officer Involved Shooting - subject/suspect/perpetrator killed||Drug involvement||Kidnapping/abductions/hostage||Under the influence of alcohol or drugs (only applies to the subject/suspect/perpetrator )</td>\n",
       "      <td>NaN</td>\n",
       "      <td>NaN</td>\n",
       "      <td>0::29||1::33||2::56||3::33</td>\n",
       "      <td>0::Adult 18+||1::Adult 18+||2::Adult 18+||3::Adult 18+</td>\n",
       "      <td>0::Female||1::Male||2::Male||3::Male</td>\n",
       "      <td>0::Stacie Philbrook||1::Christopher Ratliffe||2::Anthony Ticali||3::Sonny Archuleta</td>\n",
       "      <td>NaN</td>\n",
       "      <td>0::Killed||1::Killed||2::Killed||3::Killed</td>\n",
       "      <td>0::Victim||1::Victim||2::Victim||3::Subject-Suspect</td>\n",
       "    </tr>\n",
       "    <tr>\n",
       "      <th>4</th>\n",
       "      <td>2013-01-07</td>\n",
       "      <td>North Carolina</td>\n",
       "      <td>Greensboro</td>\n",
       "      <td>2</td>\n",
       "      <td>2</td>\n",
       "      <td>0::Unknown||1::Unknown</td>\n",
       "      <td>0::Handgun||1::Handgun</td>\n",
       "      <td>Shot - Wounded/Injured||Shot - Dead (murder, accidental, suicide)||Suicide^||Murder/Suicide||Attempted Murder/Suicide (one variable unsuccessful)||Domestic Violence</td>\n",
       "      <td>NaN</td>\n",
       "      <td>2.0</td>\n",
       "      <td>0::18||1::46||2::14||3::47</td>\n",
       "      <td>0::Adult 18+||1::Adult 18+||2::Teen 12-17||3::Adult 18+</td>\n",
       "      <td>0::Female||1::Male||2::Male||3::Female</td>\n",
       "      <td>0::Danielle Imani Jameison||1::Maurice Eugene Edmonds, Sr.||2::Maurice Edmonds II||3::Sandra Palmer</td>\n",
       "      <td>3::Family</td>\n",
       "      <td>0::Injured||1::Injured||2::Killed||3::Killed</td>\n",
       "      <td>0::Victim||1::Victim||2::Victim||3::Subject-Suspect</td>\n",
       "    </tr>\n",
       "  </tbody>\n",
       "</table>\n",
       "</div>"
      ],
      "text/plain": [
       "         date           state city_or_county  n_killed  n_injured  \\\n",
       "0  2013-01-01    Pennsylvania     Mckeesport         0          4   \n",
       "1  2013-01-01      California      Hawthorne         1          3   \n",
       "2  2013-01-01            Ohio         Lorain         1          3   \n",
       "3  2013-01-05        Colorado         Aurora         4          0   \n",
       "4  2013-01-07  North Carolina     Greensboro         2          2   \n",
       "\n",
       "               gun_stolen                gun_type  \\\n",
       "0                     NaN                     NaN   \n",
       "1                     NaN                     NaN   \n",
       "2  0::Unknown||1::Unknown  0::Unknown||1::Unknown   \n",
       "3                     NaN                     NaN   \n",
       "4  0::Unknown||1::Unknown  0::Handgun||1::Handgun   \n",
       "\n",
       "                                                                                                                                                                                                                                                            incident_characteristics  \\\n",
       "0                                         Shot - Wounded/Injured||Mass Shooting (4+ victims injured or killed excluding the subject/suspect/perpetrator, one location)||Possession (gun(s) found during commission of other crimes)||Possession of gun by felon or prohibited person   \n",
       "1                                                                                          Shot - Wounded/Injured||Shot - Dead (murder, accidental, suicide)||Mass Shooting (4+ victims injured or killed excluding the subject/suspect/perpetrator, one location)||Gang involvement   \n",
       "2                                                                                                                                       Shot - Wounded/Injured||Shot - Dead (murder, accidental, suicide)||Shots Fired - No Injuries||Bar/club incident - in or around establishment   \n",
       "3  Shot - Dead (murder, accidental, suicide)||Officer Involved Incident||Officer Involved Shooting - subject/suspect/perpetrator killed||Drug involvement||Kidnapping/abductions/hostage||Under the influence of alcohol or drugs (only applies to the subject/suspect/perpetrator )   \n",
       "4                                                                                                               Shot - Wounded/Injured||Shot - Dead (murder, accidental, suicide)||Suicide^||Murder/Suicide||Attempted Murder/Suicide (one variable unsuccessful)||Domestic Violence   \n",
       "\n",
       "  location_description  n_guns_involved                    participant_age  \\\n",
       "0                  NaN              NaN                              0::20   \n",
       "1                  NaN              NaN                              0::20   \n",
       "2          Cotton Club              2.0  0::25||1::31||2::33||3::34||4::33   \n",
       "3                  NaN              NaN         0::29||1::33||2::56||3::33   \n",
       "4                  NaN              2.0         0::18||1::46||2::14||3::47   \n",
       "\n",
       "                                                  participant_age_group  \\\n",
       "0  0::Adult 18+||1::Adult 18+||2::Adult 18+||3::Adult 18+||4::Adult 18+   \n",
       "1                0::Adult 18+||1::Adult 18+||2::Adult 18+||3::Adult 18+   \n",
       "2  0::Adult 18+||1::Adult 18+||2::Adult 18+||3::Adult 18+||4::Adult 18+   \n",
       "3                0::Adult 18+||1::Adult 18+||2::Adult 18+||3::Adult 18+   \n",
       "4               0::Adult 18+||1::Adult 18+||2::Teen 12-17||3::Adult 18+   \n",
       "\n",
       "                            participant_gender  \\\n",
       "0         0::Male||1::Male||3::Male||4::Female   \n",
       "1                                      0::Male   \n",
       "2  0::Male||1::Male||2::Male||3::Male||4::Male   \n",
       "3         0::Female||1::Male||2::Male||3::Male   \n",
       "4       0::Female||1::Male||2::Male||3::Female   \n",
       "\n",
       "                                                                                      participant_name  \\\n",
       "0                                                                                       0::Julian Sims   \n",
       "1                                                                                    0::Bernard Gillis   \n",
       "2                 0::Damien Bell||1::Desmen Noble||2::Herman Seagers||3::Ladd Tate Sr||4::Tallis Moore   \n",
       "3                  0::Stacie Philbrook||1::Christopher Ratliffe||2::Anthony Ticali||3::Sonny Archuleta   \n",
       "4  0::Danielle Imani Jameison||1::Maurice Eugene Edmonds, Sr.||2::Maurice Edmonds II||3::Sandra Palmer   \n",
       "\n",
       "  participant_relationship  \\\n",
       "0                      NaN   \n",
       "1                      NaN   \n",
       "2                      NaN   \n",
       "3                      NaN   \n",
       "4                3::Family   \n",
       "\n",
       "                                                                         participant_status  \\\n",
       "0                               0::Arrested||1::Injured||2::Injured||3::Injured||4::Injured   \n",
       "1                                             0::Killed||1::Injured||2::Injured||3::Injured   \n",
       "2  0::Injured, Unharmed, Arrested||1::Unharmed, Arrested||2::Killed||3::Injured||4::Injured   \n",
       "3                                                0::Killed||1::Killed||2::Killed||3::Killed   \n",
       "4                                              0::Injured||1::Injured||2::Killed||3::Killed   \n",
       "\n",
       "                                                          participant_type  \n",
       "0           0::Victim||1::Victim||2::Victim||3::Victim||4::Subject-Suspect  \n",
       "1           0::Victim||1::Victim||2::Victim||3::Victim||4::Subject-Suspect  \n",
       "2  0::Subject-Suspect||1::Subject-Suspect||2::Victim||3::Victim||4::Victim  \n",
       "3                      0::Victim||1::Victim||2::Victim||3::Subject-Suspect  \n",
       "4                      0::Victim||1::Victim||2::Victim||3::Subject-Suspect  "
      ]
     },
     "execution_count": 13,
     "metadata": {},
     "output_type": "execute_result"
    }
   ],
   "source": [
    "df.head()"
   ]
  },
  {
   "cell_type": "markdown",
   "metadata": {},
   "source": [
    "### IMMEDIATE ASSERTIONS:\n",
    "\n",
    "- `incident_id` is irrelevant for our current data investigation(s).\n",
    "- `incident_url` is irrelevant for our current data investigation(s).\n",
    "- `source_url` is irrelevant for our current data investigation(s).\n",
    "- `incident_url_fields_missing` is irrelevant for our current data investigation(s).\n",
    "- `latitude` is irrelevant for our current data investigation(s).\n",
    "- `longitude` is irrelevant for our current data investigation(s).\n",
    "- `sources` is irrelevant for our current data investigation(s).\n",
    "***\n",
    "- `congressional_district` is unnecessary for now but could hold valuable information later.\n",
    "- `state_house_district` is unnecessary for now but could hold valuable information later.\n",
    "- `state_senate_district` is unnecessary for now but could hold valuable information later.\n",
    "- `notes` is unnecessary for now but could hold valuable information later.\n",
    "- `address` is unnecessary for now but could hold valuable information later.\n",
    "- `location_description` is unnecessary for now but could hold valuable information later.\n",
    "\n",
    "For our current project, we'll treat all as invaluable and drop them from our dataset."
   ]
  },
  {
   "cell_type": "markdown",
   "metadata": {},
   "source": [
    "### NOTE: _Run only once to drop relevant data._"
   ]
  },
  {
   "cell_type": "code",
   "execution_count": 14,
   "metadata": {},
   "outputs": [],
   "source": [
    "def feature_dropper(df, features_to_drop):\n",
    "    for feature in features_to_drop:\n",
    "        if feature in df.columns:\n",
    "            df.drop(columns=[feature], inplace=True)\n",
    "    return"
   ]
  },
  {
   "cell_type": "code",
   "execution_count": 18,
   "metadata": {},
   "outputs": [],
   "source": [
    "FEATURES_TO_DROP = ['incident_id', \n",
    "                    'incident_url', \n",
    "                    'source_url', \n",
    "                    'incident_url_fields_missing', \n",
    "                    'latitude',\n",
    "                    'longitude',\n",
    "                    'sources',\n",
    "                    'congressional_district',\n",
    "                    'state_house_district',\n",
    "                    'state_senate_district',\n",
    "                    'notes',\n",
    "                    'address',\n",
    "                    'location_description']"
   ]
  },
  {
   "cell_type": "code",
   "execution_count": 19,
   "metadata": {},
   "outputs": [],
   "source": [
    "feature_dropper(df, FEATURES_TO_DROP)"
   ]
  },
  {
   "cell_type": "code",
   "execution_count": 20,
   "metadata": {},
   "outputs": [
    {
     "data": {
      "text/plain": [
       "16"
      ]
     },
     "execution_count": 20,
     "metadata": {},
     "output_type": "execute_result"
    }
   ],
   "source": [
    "len(df.columns)\n",
    "\n",
    "# Raw data should have 29 columns/features.\n",
    "# Cleaned data should have 29 - len(FEATURES_TO_DROP) columns/features."
   ]
  },
  {
   "cell_type": "markdown",
   "metadata": {},
   "source": [
    "### NOTE: `participant_type` does not seem to map perfectly to other participant-related features. Must explore further."
   ]
  },
  {
   "cell_type": "code",
   "execution_count": 31,
   "metadata": {},
   "outputs": [
    {
     "data": {
      "text/html": [
       "<div>\n",
       "<style scoped>\n",
       "    .dataframe tbody tr th:only-of-type {\n",
       "        vertical-align: middle;\n",
       "    }\n",
       "\n",
       "    .dataframe tbody tr th {\n",
       "        vertical-align: top;\n",
       "    }\n",
       "\n",
       "    .dataframe thead th {\n",
       "        text-align: right;\n",
       "    }\n",
       "</style>\n",
       "<table border=\"1\" class=\"dataframe\">\n",
       "  <thead>\n",
       "    <tr style=\"text-align: right;\">\n",
       "      <th></th>\n",
       "      <th>date</th>\n",
       "      <th>state</th>\n",
       "      <th>city_or_county</th>\n",
       "      <th>n_killed</th>\n",
       "      <th>n_injured</th>\n",
       "      <th>gun_stolen</th>\n",
       "      <th>gun_type</th>\n",
       "      <th>incident_characteristics</th>\n",
       "      <th>n_guns_involved</th>\n",
       "      <th>participant_age</th>\n",
       "      <th>participant_age_group</th>\n",
       "      <th>participant_gender</th>\n",
       "      <th>participant_name</th>\n",
       "      <th>participant_relationship</th>\n",
       "      <th>participant_status</th>\n",
       "      <th>participant_type</th>\n",
       "    </tr>\n",
       "  </thead>\n",
       "  <tbody>\n",
       "    <tr>\n",
       "      <th>0</th>\n",
       "      <td>2013-01-01</td>\n",
       "      <td>Pennsylvania</td>\n",
       "      <td>Mckeesport</td>\n",
       "      <td>0</td>\n",
       "      <td>4</td>\n",
       "      <td>NaN</td>\n",
       "      <td>NaN</td>\n",
       "      <td>Shot - Wounded/Injured||Mass Shooting (4+ victims injured or killed excluding the subject/suspect/perpetrator, one location)||Possession (gun(s) found during commission of other crimes)||Possession of gun by felon or prohibited person</td>\n",
       "      <td>NaN</td>\n",
       "      <td>0::20</td>\n",
       "      <td>0::Adult 18+||1::Adult 18+||2::Adult 18+||3::Adult 18+||4::Adult 18+</td>\n",
       "      <td>0::Male||1::Male||3::Male||4::Female</td>\n",
       "      <td>0::Julian Sims</td>\n",
       "      <td>NaN</td>\n",
       "      <td>0::Arrested||1::Injured||2::Injured||3::Injured||4::Injured</td>\n",
       "      <td>0::Victim||1::Victim||2::Victim||3::Victim||4::Subject-Suspect</td>\n",
       "    </tr>\n",
       "    <tr>\n",
       "      <th>1</th>\n",
       "      <td>2013-01-01</td>\n",
       "      <td>California</td>\n",
       "      <td>Hawthorne</td>\n",
       "      <td>1</td>\n",
       "      <td>3</td>\n",
       "      <td>NaN</td>\n",
       "      <td>NaN</td>\n",
       "      <td>Shot - Wounded/Injured||Shot - Dead (murder, accidental, suicide)||Mass Shooting (4+ victims injured or killed excluding the subject/suspect/perpetrator, one location)||Gang involvement</td>\n",
       "      <td>NaN</td>\n",
       "      <td>0::20</td>\n",
       "      <td>0::Adult 18+||1::Adult 18+||2::Adult 18+||3::Adult 18+</td>\n",
       "      <td>0::Male</td>\n",
       "      <td>0::Bernard Gillis</td>\n",
       "      <td>NaN</td>\n",
       "      <td>0::Killed||1::Injured||2::Injured||3::Injured</td>\n",
       "      <td>0::Victim||1::Victim||2::Victim||3::Victim||4::Subject-Suspect</td>\n",
       "    </tr>\n",
       "    <tr>\n",
       "      <th>2</th>\n",
       "      <td>2013-01-01</td>\n",
       "      <td>Ohio</td>\n",
       "      <td>Lorain</td>\n",
       "      <td>1</td>\n",
       "      <td>3</td>\n",
       "      <td>0::Unknown||1::Unknown</td>\n",
       "      <td>0::Unknown||1::Unknown</td>\n",
       "      <td>Shot - Wounded/Injured||Shot - Dead (murder, accidental, suicide)||Shots Fired - No Injuries||Bar/club incident - in or around establishment</td>\n",
       "      <td>2.0</td>\n",
       "      <td>0::25||1::31||2::33||3::34||4::33</td>\n",
       "      <td>0::Adult 18+||1::Adult 18+||2::Adult 18+||3::Adult 18+||4::Adult 18+</td>\n",
       "      <td>0::Male||1::Male||2::Male||3::Male||4::Male</td>\n",
       "      <td>0::Damien Bell||1::Desmen Noble||2::Herman Seagers||3::Ladd Tate Sr||4::Tallis Moore</td>\n",
       "      <td>NaN</td>\n",
       "      <td>0::Injured, Unharmed, Arrested||1::Unharmed, Arrested||2::Killed||3::Injured||4::Injured</td>\n",
       "      <td>0::Subject-Suspect||1::Subject-Suspect||2::Victim||3::Victim||4::Victim</td>\n",
       "    </tr>\n",
       "  </tbody>\n",
       "</table>\n",
       "</div>"
      ],
      "text/plain": [
       "         date         state city_or_county  n_killed  n_injured  \\\n",
       "0  2013-01-01  Pennsylvania     Mckeesport         0          4   \n",
       "1  2013-01-01    California      Hawthorne         1          3   \n",
       "2  2013-01-01          Ohio         Lorain         1          3   \n",
       "\n",
       "               gun_stolen                gun_type  \\\n",
       "0                     NaN                     NaN   \n",
       "1                     NaN                     NaN   \n",
       "2  0::Unknown||1::Unknown  0::Unknown||1::Unknown   \n",
       "\n",
       "                                                                                                                                                                                                                     incident_characteristics  \\\n",
       "0  Shot - Wounded/Injured||Mass Shooting (4+ victims injured or killed excluding the subject/suspect/perpetrator, one location)||Possession (gun(s) found during commission of other crimes)||Possession of gun by felon or prohibited person   \n",
       "1                                                   Shot - Wounded/Injured||Shot - Dead (murder, accidental, suicide)||Mass Shooting (4+ victims injured or killed excluding the subject/suspect/perpetrator, one location)||Gang involvement   \n",
       "2                                                                                                Shot - Wounded/Injured||Shot - Dead (murder, accidental, suicide)||Shots Fired - No Injuries||Bar/club incident - in or around establishment   \n",
       "\n",
       "   n_guns_involved                    participant_age  \\\n",
       "0              NaN                              0::20   \n",
       "1              NaN                              0::20   \n",
       "2              2.0  0::25||1::31||2::33||3::34||4::33   \n",
       "\n",
       "                                                  participant_age_group  \\\n",
       "0  0::Adult 18+||1::Adult 18+||2::Adult 18+||3::Adult 18+||4::Adult 18+   \n",
       "1                0::Adult 18+||1::Adult 18+||2::Adult 18+||3::Adult 18+   \n",
       "2  0::Adult 18+||1::Adult 18+||2::Adult 18+||3::Adult 18+||4::Adult 18+   \n",
       "\n",
       "                            participant_gender  \\\n",
       "0         0::Male||1::Male||3::Male||4::Female   \n",
       "1                                      0::Male   \n",
       "2  0::Male||1::Male||2::Male||3::Male||4::Male   \n",
       "\n",
       "                                                                       participant_name  \\\n",
       "0                                                                        0::Julian Sims   \n",
       "1                                                                     0::Bernard Gillis   \n",
       "2  0::Damien Bell||1::Desmen Noble||2::Herman Seagers||3::Ladd Tate Sr||4::Tallis Moore   \n",
       "\n",
       "  participant_relationship  \\\n",
       "0                      NaN   \n",
       "1                      NaN   \n",
       "2                      NaN   \n",
       "\n",
       "                                                                         participant_status  \\\n",
       "0                               0::Arrested||1::Injured||2::Injured||3::Injured||4::Injured   \n",
       "1                                             0::Killed||1::Injured||2::Injured||3::Injured   \n",
       "2  0::Injured, Unharmed, Arrested||1::Unharmed, Arrested||2::Killed||3::Injured||4::Injured   \n",
       "\n",
       "                                                          participant_type  \n",
       "0           0::Victim||1::Victim||2::Victim||3::Victim||4::Subject-Suspect  \n",
       "1           0::Victim||1::Victim||2::Victim||3::Victim||4::Subject-Suspect  \n",
       "2  0::Subject-Suspect||1::Subject-Suspect||2::Victim||3::Victim||4::Victim  "
      ]
     },
     "execution_count": 31,
     "metadata": {},
     "output_type": "execute_result"
    }
   ],
   "source": [
    "df.head(3)"
   ]
  },
  {
   "cell_type": "markdown",
   "metadata": {},
   "source": [
    "## Before we dive into `context-specific cleaning`, let's perform some `general cleaning`."
   ]
  },
  {
   "cell_type": "code",
   "execution_count": 77,
   "metadata": {},
   "outputs": [],
   "source": [
    "def show_unique_values_per_feature(feature, df=df):\n",
    "    \"\"\" Displays all unique values within a single feature in your dataset. \"\"\"\n",
    "    return df[feature].unique().tolist()"
   ]
  },
  {
   "cell_type": "code",
   "execution_count": 78,
   "metadata": {},
   "outputs": [],
   "source": [
    "def show_unique_types_per_feature(feature, df=df):\n",
    "    \"\"\" Displays all unique datatypes within a single feature in your dataset. \"\"\"\n",
    "    types = set()\n",
    "    for value in df[feature]:\n",
    "        types.update([type(value)])\n",
    "    return list(types)"
   ]
  },
  {
   "cell_type": "markdown",
   "metadata": {},
   "source": [
    "### Testing Unique Value/Type Printer Function"
   ]
  },
  {
   "cell_type": "code",
   "execution_count": 90,
   "metadata": {},
   "outputs": [],
   "source": [
    "current_feature = \"n_killed\""
   ]
  },
  {
   "cell_type": "code",
   "execution_count": 91,
   "metadata": {},
   "outputs": [
    {
     "data": {
      "text/plain": [
       "[0, 1, 4, 2, 5, 3, 6, 7, 11, 8, 9, 10, 16, 50, 27, 17]"
      ]
     },
     "execution_count": 91,
     "metadata": {},
     "output_type": "execute_result"
    }
   ],
   "source": [
    "show_unique_values_per_feature(current_feature)"
   ]
  },
  {
   "cell_type": "code",
   "execution_count": 92,
   "metadata": {},
   "outputs": [
    {
     "data": {
      "text/plain": [
       "[int]"
      ]
     },
     "execution_count": 92,
     "metadata": {},
     "output_type": "execute_result"
    }
   ],
   "source": [
    "show_unique_types_per_feature(current_feature)"
   ]
  },
  {
   "cell_type": "markdown",
   "metadata": {},
   "source": [
    "### Create Objects that Hold Relevant Unique Data"
   ]
  },
  {
   "cell_type": "code",
   "execution_count": 93,
   "metadata": {},
   "outputs": [],
   "source": [
    "RELEVANT_FEATURES = ['n_killed',\n",
    "                     'n_injured',\n",
    "                     'state',\n",
    "                     'date']"
   ]
  },
  {
   "cell_type": "code",
   "execution_count": 96,
   "metadata": {},
   "outputs": [],
   "source": [
    "relevant_unique_vals, relevant_unique_types = dict(), dict()\n",
    "\n",
    "for feature in RELEVANT_FEATURES:\n",
    "    if feature not in relevant_unique_vals:\n",
    "        relevant_unique_vals[feature] = show_unique_values_per_feature(feature)\n",
    "    if feature not in relevant_unique_types:\n",
    "        relevant_unique_types[feature] = show_unique_types_per_feature(feature)"
   ]
  },
  {
   "cell_type": "code",
   "execution_count": 99,
   "metadata": {},
   "outputs": [
    {
     "data": {
      "text/plain": [
       "[int]"
      ]
     },
     "execution_count": 99,
     "metadata": {},
     "output_type": "execute_result"
    }
   ],
   "source": [
    "relevant_unique_types['n_injured']"
   ]
  },
  {
   "cell_type": "markdown",
   "metadata": {},
   "source": [
    "## DS Process - Step #5: Data Conveying/Visualization"
   ]
  },
  {
   "cell_type": "markdown",
   "metadata": {},
   "source": [
    "#### Data Visualization works best/easiest with purely numerical data."
   ]
  },
  {
   "cell_type": "code",
   "execution_count": 115,
   "metadata": {},
   "outputs": [],
   "source": [
    "gun_deaths_by_state = df[['n_killed', 'state']]\n",
    "unique_states = gun_deaths_by_state[\"state\"].unique()\n",
    "state_death_associations = dict()\n",
    "\n",
    "for state in unique_states:\n",
    "    if state not in state_death_associations:\n",
    "        state_death_associations[state] = sum(gun_deaths_by_state[gun_deaths_by_state['state'] == state][\"n_killed\"])"
   ]
  },
  {
   "cell_type": "code",
   "execution_count": 125,
   "metadata": {},
   "outputs": [
    {
     "data": {
      "text/plain": [
       "<BarContainer object of 5 artists>"
      ]
     },
     "execution_count": 125,
     "metadata": {},
     "output_type": "execute_result"
    },
    {
     "data": {
      "image/png": "[encoded data removed]",
      "text/plain": [
       "<Figure size 1080x1080 with 1 Axes>"
      ]
     },
     "metadata": {
      "needs_background": "light"
     },
     "output_type": "display_data"
    }
   ],
   "source": [
    "states = list(state_death_associations.keys())\n",
    "deaths = list(state_death_associations.values())\n",
    "\n",
    "plt.figure(figsize=(15, 15))\n",
    "\n",
    "plt.bar(states[5:10], deaths[5:10])"
   ]
  },
  {
   "cell_type": "code",
   "execution_count": null,
   "metadata": {},
   "outputs": [],
   "source": []
  },
  {
   "cell_type": "code",
   "execution_count": null,
   "metadata": {},
   "outputs": [],
   "source": []
  },
  {
   "cell_type": "code",
   "execution_count": null,
   "metadata": {},
   "outputs": [],
   "source": []
  },
  {
   "cell_type": "code",
   "execution_count": null,
   "metadata": {},
   "outputs": [],
   "source": []
  },
  {
   "cell_type": "markdown",
   "metadata": {},
   "source": [
    "# INTERESTING DATA TIDBITS\n",
    "\n",
    "***"
   ]
  },
  {
   "cell_type": "markdown",
   "metadata": {},
   "source": [
    "### NOTE: _Parkland Shooting Incident_"
   ]
  },
  {
   "cell_type": "code",
   "execution_count": 42,
   "metadata": {},
   "outputs": [
    {
     "data": {
      "text/html": [
       "<div>\n",
       "<style scoped>\n",
       "    .dataframe tbody tr th:only-of-type {\n",
       "        vertical-align: middle;\n",
       "    }\n",
       "\n",
       "    .dataframe tbody tr th {\n",
       "        vertical-align: top;\n",
       "    }\n",
       "\n",
       "    .dataframe thead th {\n",
       "        text-align: right;\n",
       "    }\n",
       "</style>\n",
       "<table border=\"1\" class=\"dataframe\">\n",
       "  <thead>\n",
       "    <tr style=\"text-align: right;\">\n",
       "      <th></th>\n",
       "      <th>date</th>\n",
       "      <th>state</th>\n",
       "      <th>city_or_county</th>\n",
       "      <th>n_killed</th>\n",
       "      <th>n_injured</th>\n",
       "      <th>gun_stolen</th>\n",
       "      <th>gun_type</th>\n",
       "      <th>incident_characteristics</th>\n",
       "      <th>n_guns_involved</th>\n",
       "      <th>participant_age</th>\n",
       "      <th>participant_age_group</th>\n",
       "      <th>participant_gender</th>\n",
       "      <th>participant_name</th>\n",
       "      <th>participant_relationship</th>\n",
       "      <th>participant_status</th>\n",
       "      <th>participant_type</th>\n",
       "    </tr>\n",
       "  </thead>\n",
       "  <tbody>\n",
       "    <tr>\n",
       "      <th>232745</th>\n",
       "      <td>2018-02-14</td>\n",
       "      <td>Florida</td>\n",
       "      <td>Pompano Beach (Parkland)</td>\n",
       "      <td>17</td>\n",
       "      <td>17</td>\n",
       "      <td>0::Not-stolen||1::Not-stolen</td>\n",
       "      <td>0::223 Rem [AR-15]||1::Handgun</td>\n",
       "      <td>Shot - Wounded/Injured||Shot - Dead (murder, accidental, suicide)||Institution/Group/Business||School Incident||School Shooting - elementary/secondary school||Mass Murder (4+ deceased victims excluding the subject/suspect/perpetrator , one location)||Mass Shooting (4+ victims injured or killed excluding the subject/suspect/perpetrator, one location)||Assault weapon (AR-15, AK-47, and ALL variants defined by law enforcement)</td>\n",
       "      <td>2.0</td>\n",
       "      <td>0::35||1::14||2::17||3::37||4::14||5::15||6::49||7::15||8::14||9::14||10::17||11::14||12::14||13::16||14::18||15::15||16::17||17::18||20::15||21::15||22::17||23::18||24::15||33::50||34::19</td>\n",
       "      <td>0::Adult 18+||1::Teen 12-17||2::Teen 12-17||3::Adult 18+||4::Teen 12-17||5::Teen 12-17||6::Adult 18+||7::Teen 12-17||8::Teen 12-17||9::Teen 12-17||10::Teen 12-17||11::Teen 12-17||12::Teen 12-17||13::Teen 12-17||14::Adult 18+||15::Teen 12-17||16::Teen 12-17||17::Adult 18+||18::Teen 12-17||19::Teen 12-17||20::Teen 12-17||21::Teen 12-17||22::Teen 12-17||23::Adult 18+||24::Teen 12-17||25::Teen 12-17||26::Teen 12-17||27::Teen 12-17||28::Teen 12-17||29::Teen 12-17||30::Teen 12-17||31::Teen 12-17||32::Teen 12-17||33::Adult 18+||34::Adult 18+</td>\n",
       "      <td>0::Male||1::Male||2::Male||3::Male||4::Female||5::Female||6::Male||7::Male||8::Female||9::Female||10::Male||11::Female||12::Male||13::Female||14::Female||15::Male||16::Female||17::Female||18::Male||19::Female||20::Male||21::Male||22::Female||23::Female||24::Male||25::Female||26::Female||27::Male||28::Female||29::Male||30::Female||31::Male||32::Female||33::Female||34::Male</td>\n",
       "      <td>0::Scott Beigel||1::Martin Duque Anguiano||2::Nicholas Dworet||3::Aaron Feis||4::Jaime Guttenberg||5::Alyssa Alhadeff||6::Christopher Hixon||7::Luke Hoyer||8::Cara Loughran||9::Gina Montalto||10::Joaquin Oliver||11::Alaina Petty||12::Alexander Schachter||13::Carmen Schentrup||14::Meadow Pollack||15::Peter Wang||16::Helena Ramsay||17::Madeleine \"Maddy\" Wilford||18::Benjamin Wikander||19::Samantha Grady||20::Anthony Borges||21::Kyle Laman||22::Daniela Menescal||23::Samantha Fuentes||24::Alexander Dworet||25::Isabel Chequer||26::Ashley Baez||27::Justin Colton||28::Marian Kabachenko||29::Kheshava Managapuram||30::Samantha Mayor||31::William Olson||32::Genesis Valentin||33::Stacey Lynn Lippel||34::Nikolas Cruz</td>\n",
       "      <td>NaN</td>\n",
       "      <td>0::Killed||1::Killed||2::Killed||3::Killed||4::Killed||5::Killed||6::Killed||7::Killed||8::Killed||9::Killed||10::Killed||11::Killed||12::Killed||13::Killed||14::Killed||15::Killed||16::Killed||17::Injured||18::Injured||19::Injured||20::Injured||21::Injured||22::Injured||23::Injured||24::Injured||25::Injured||26::Injured||27::Injured||28::Injured||29::Injured||30::Injured||31::Injured||32::Injured||33::Injured||34::Unharmed, Arrested</td>\n",
       "      <td>0::Victim||1::Victim||2::Victim||3::Victim||4::Victim||5::Victim||6::Victim||7::Victim||8::Victim||9::Victim||10::Victim||11::Victim||12::Victim||13::Victim||14::Victim||15::Victim||16::Victim||17::Victim||18::Victim||19::Victim||20::Victim||21::Victim||22::Victim||23::Victim||24::Victim||25::Victim||26::Victim||27::Victim||28::Victim||29::Victim||30::Victim||31::Victim||32::Victim||33::Victim||34::Subject-Suspect</td>\n",
       "    </tr>\n",
       "  </tbody>\n",
       "</table>\n",
       "</div>"
      ],
      "text/plain": [
       "              date    state            city_or_county  n_killed  n_injured  \\\n",
       "232745  2018-02-14  Florida  Pompano Beach (Parkland)        17         17   \n",
       "\n",
       "                          gun_stolen                        gun_type  \\\n",
       "232745  0::Not-stolen||1::Not-stolen  0::223 Rem [AR-15]||1::Handgun   \n",
       "\n",
       "                                                                                                                                                                                                                                                                                                                                                                                                                           incident_characteristics  \\\n",
       "232745  Shot - Wounded/Injured||Shot - Dead (murder, accidental, suicide)||Institution/Group/Business||School Incident||School Shooting - elementary/secondary school||Mass Murder (4+ deceased victims excluding the subject/suspect/perpetrator , one location)||Mass Shooting (4+ victims injured or killed excluding the subject/suspect/perpetrator, one location)||Assault weapon (AR-15, AK-47, and ALL variants defined by law enforcement)   \n",
       "\n",
       "        n_guns_involved  \\\n",
       "232745              2.0   \n",
       "\n",
       "                                                                                                                                                                                     participant_age  \\\n",
       "232745  0::35||1::14||2::17||3::37||4::14||5::15||6::49||7::15||8::14||9::14||10::17||11::14||12::14||13::16||14::18||15::15||16::17||17::18||20::15||21::15||22::17||23::18||24::15||33::50||34::19   \n",
       "\n",
       "                                                                                                                                                                                                                                                                                                                                                                                                                                                                                                                                               participant_age_group  \\\n",
       "232745  0::Adult 18+||1::Teen 12-17||2::Teen 12-17||3::Adult 18+||4::Teen 12-17||5::Teen 12-17||6::Adult 18+||7::Teen 12-17||8::Teen 12-17||9::Teen 12-17||10::Teen 12-17||11::Teen 12-17||12::Teen 12-17||13::Teen 12-17||14::Adult 18+||15::Teen 12-17||16::Teen 12-17||17::Adult 18+||18::Teen 12-17||19::Teen 12-17||20::Teen 12-17||21::Teen 12-17||22::Teen 12-17||23::Adult 18+||24::Teen 12-17||25::Teen 12-17||26::Teen 12-17||27::Teen 12-17||28::Teen 12-17||29::Teen 12-17||30::Teen 12-17||31::Teen 12-17||32::Teen 12-17||33::Adult 18+||34::Adult 18+   \n",
       "\n",
       "                                                                                                                                                                                                                                                                                                                                                                            participant_gender  \\\n",
       "232745  0::Male||1::Male||2::Male||3::Male||4::Female||5::Female||6::Male||7::Male||8::Female||9::Female||10::Male||11::Female||12::Male||13::Female||14::Female||15::Male||16::Female||17::Female||18::Male||19::Female||20::Male||21::Male||22::Female||23::Female||24::Male||25::Female||26::Female||27::Male||28::Female||29::Male||30::Female||31::Male||32::Female||33::Female||34::Male   \n",
       "\n",
       "                                                                                                                                                                                                                                                                                                                                                                                                                                                                                                                                                                                                                                                                                                                                  participant_name  \\\n",
       "232745  0::Scott Beigel||1::Martin Duque Anguiano||2::Nicholas Dworet||3::Aaron Feis||4::Jaime Guttenberg||5::Alyssa Alhadeff||6::Christopher Hixon||7::Luke Hoyer||8::Cara Loughran||9::Gina Montalto||10::Joaquin Oliver||11::Alaina Petty||12::Alexander Schachter||13::Carmen Schentrup||14::Meadow Pollack||15::Peter Wang||16::Helena Ramsay||17::Madeleine \"Maddy\" Wilford||18::Benjamin Wikander||19::Samantha Grady||20::Anthony Borges||21::Kyle Laman||22::Daniela Menescal||23::Samantha Fuentes||24::Alexander Dworet||25::Isabel Chequer||26::Ashley Baez||27::Justin Colton||28::Marian Kabachenko||29::Kheshava Managapuram||30::Samantha Mayor||31::William Olson||32::Genesis Valentin||33::Stacey Lynn Lippel||34::Nikolas Cruz   \n",
       "\n",
       "       participant_relationship  \\\n",
       "232745                      NaN   \n",
       "\n",
       "                                                                                                                                                                                                                                                                                                                                                                                                                                           participant_status  \\\n",
       "232745  0::Killed||1::Killed||2::Killed||3::Killed||4::Killed||5::Killed||6::Killed||7::Killed||8::Killed||9::Killed||10::Killed||11::Killed||12::Killed||13::Killed||14::Killed||15::Killed||16::Killed||17::Injured||18::Injured||19::Injured||20::Injured||21::Injured||22::Injured||23::Injured||24::Injured||25::Injured||26::Injured||27::Injured||28::Injured||29::Injured||30::Injured||31::Injured||32::Injured||33::Injured||34::Unharmed, Arrested   \n",
       "\n",
       "                                                                                                                                                                                                                                                                                                                                                                                                                         participant_type  \n",
       "232745  0::Victim||1::Victim||2::Victim||3::Victim||4::Victim||5::Victim||6::Victim||7::Victim||8::Victim||9::Victim||10::Victim||11::Victim||12::Victim||13::Victim||14::Victim||15::Victim||16::Victim||17::Victim||18::Victim||19::Victim||20::Victim||21::Victim||22::Victim||23::Victim||24::Victim||25::Victim||26::Victim||27::Victim||28::Victim||29::Victim||30::Victim||31::Victim||32::Victim||33::Victim||34::Subject-Suspect  "
      ]
     },
     "execution_count": 42,
     "metadata": {},
     "output_type": "execute_result"
    }
   ],
   "source": [
    "df[df[\"n_killed\"] == 17]"
   ]
  },
  {
   "cell_type": "markdown",
   "metadata": {},
   "source": [
    "### NOTE: _Orlando Nightclub Shooting_"
   ]
  },
  {
   "cell_type": "code",
   "execution_count": 45,
   "metadata": {},
   "outputs": [
    {
     "data": {
      "text/html": [
       "<div>\n",
       "<style scoped>\n",
       "    .dataframe tbody tr th:only-of-type {\n",
       "        vertical-align: middle;\n",
       "    }\n",
       "\n",
       "    .dataframe tbody tr th {\n",
       "        vertical-align: top;\n",
       "    }\n",
       "\n",
       "    .dataframe thead th {\n",
       "        text-align: right;\n",
       "    }\n",
       "</style>\n",
       "<table border=\"1\" class=\"dataframe\">\n",
       "  <thead>\n",
       "    <tr style=\"text-align: right;\">\n",
       "      <th></th>\n",
       "      <th>date</th>\n",
       "      <th>state</th>\n",
       "      <th>city_or_county</th>\n",
       "      <th>n_killed</th>\n",
       "      <th>n_injured</th>\n",
       "      <th>gun_stolen</th>\n",
       "      <th>gun_type</th>\n",
       "      <th>incident_characteristics</th>\n",
       "      <th>n_guns_involved</th>\n",
       "      <th>participant_age</th>\n",
       "      <th>participant_age_group</th>\n",
       "      <th>participant_gender</th>\n",
       "      <th>participant_name</th>\n",
       "      <th>participant_relationship</th>\n",
       "      <th>participant_status</th>\n",
       "      <th>participant_type</th>\n",
       "    </tr>\n",
       "  </thead>\n",
       "  <tbody>\n",
       "    <tr>\n",
       "      <th>130448</th>\n",
       "      <td>2016-06-12</td>\n",
       "      <td>Florida</td>\n",
       "      <td>Orlando</td>\n",
       "      <td>50</td>\n",
       "      <td>53</td>\n",
       "      <td>0::Not-stolen||1::Not-stolen</td>\n",
       "      <td>0::223 Rem [AR-15]||1::9mm</td>\n",
       "      <td>Shot - Wounded/Injured||Shot - Dead (murder, accidental, suicide)||Institution/Group/Business||Officer Involved Incident||Officer Involved Shooting - Officer shot||Officer Involved Shooting - subject/suspect/perpetrator killed||Mass Murder (4+ deceased victims excluding the subject/suspect/perpetrator , one location)||Mass Shooting (4+ victims injured or killed excluding the subject/suspect/perpetrator, one location)||Bar/club incident - in or around establishment||Hate crime||Terrorism Involvement||Kidnapping/abductions/hostage||Concealed Carry License - Perpetrator||Assault weapon (AR-15, AK-47, and ALL variants defined by law enforcement)</td>\n",
       "      <td>2.0</td>\n",
       "      <td>0::34||1::23||2::20||3::22||4::36||5::22||6::22||7::37||8::30||9::29||10::32||11::21||12::25||13::35||14::50||15::25||16::33||17::37||18::26||19::35||20::25||21::31||22::26||23::25||24::30||25::40||26::32||27::19||28::21||29::37||30::39||31::33||32::25||33::24||34::31||35::25||36::25||37::24||38::27||39::33||40::49||41::24||42::32||43::28||44::27||45::41||46::29||47::18||48::25||51::26||52::27||54::30||56::25||58::25||59::20||60::20||63::32||64::26||67::27||68::30||71::29||72::37||74::19||77::19||78::30||102::29</td>\n",
       "      <td>0::Adult 18+||1::Adult 18+||2::Adult 18+||3::Adult 18+||4::Adult 18+||5::Adult 18+||6::Adult 18+||7::Adult 18+||8::Adult 18+||9::Adult 18+||10::Adult 18+||11::Adult 18+||12::Adult 18+||13::Adult 18+||14::Adult 18+||15::Adult 18+||16::Adult 18+||17::Adult 18+||18::Adult 18+||19::Adult 18+||20::Adult 18+||21::Adult 18+||22::Adult 18+||23::Adult 18+||24::Adult 18+||25::Adult 18+||26::Adult 18+||27::Adult 18+||28::Adult 18+||29::Adult 18+||30::Adult 18+||31::Adult 18+||32::Adult 18+||33::Adult 18+||34::Adult 18+||35::Adult 18+||36::Adult 18+||37::Adult 18+||38::Adult 18+||39::Adult 18+||40::Adult 18+||41::Adult 18+||42::Adult 18+||43::Adult 18+||44::Adult 18+||45::Adult 18+||46::Adult 18+||47::Adult 18+||48::Adult 18+||49::Adult 18+||50::Adult 18+||51::Adult 18+||52::Adult 18+||53::Adult 18+||54::Adult 18+||55::Adult 18+||56::Adult 18+||57::Adult 18+||58::Adult 18+||59::Adult 18+||60::Adult 18+||61::Adult 18+||62::Adult 18+||63::Adult 18+||64::Adult 18+||65::Adult 18+||66::Adult 18+||67::Adult 18+||68::Adult 18+||69::Adult 18+||70::Adult 18+||71::Adult 18+||72::Adult 18+||73::Adult 18+||74::Adult 18+||75::Adult 18+||76::Adult 18+||77::Adult 18+||78::Adult 18+||79::Adult 18+||80::Adult 18+||81::Adult 18+||82::Adult 18+||83::Adult 18+||84::Adult 18+||85::Adult 18+||86::Adult 18+||87::Adult 18+||88::Adult 18+||89::Adult 18+||90::Adult 18+||91::Adult 18+||92::Adult 18+||93::Adult 18+||94::Adult 18+||95::Adult 18+||96::Adult 18+||97::Adult 18+||98::Adult 18+||99::Adult 18+||100::Adult 18+||101::Adult 18+||102::Adult 18+</td>\n",
       "      <td>0::Male||1::Male||2::Male||3::Male||4::Male||5::Male||6::Male||7::Female||8::Female||9::Male||10::Female||11::Male||12::Male||13::Male||14::Male||15::Female||16::Male||17::Male||18::Female||19::Male||20::Male||21::Male||22::Male||23::Male||24::Male||25::Male||26::Male||27::Male||28::Male||29::Male||30::Male||31::Male||32::Male||33::Male||34::Male||35::Male||36::Male||37::Male||38::Female||39::Male||40::Female||41::Female||42::Male||43::Male||44::Male||45::Male||46::Male||47::Female||48::Male||49::Female||50::Male||51::Male||52::Male||53::Male||54::Male||55::Male||56::Male||57::Female||58::Male||59::Female||60::Female||61::Male||62::Male||63::Male||64::Male||65::Female||66::Male||67::Male||68::Male||69::Male||70::Male||71::Male||72::Male||73::Female||74::Female||75::Male||76::Female||102::Male</td>\n",
       "      <td>0::Edward Sotomayor Jr||1::Stanley Almodovar III||2::Luis Omar Ocasio-Capo||3::Juan Ramon Guerrero||4::Eric I Ortiz-Rivera||5::Peter O. Gonzalez-Cruz||6::Luis S. Vielma||7::Kimberly KJ Morris||8::Eddie Jamoldroy Justice||9::Darryl Roman Burt II||10::Deonka Deidra Drayton||11::Alejandro Barrios Martinez||12::Anthony Luis Laureanodisla||13::Jean Carlos Mendez Perez||14::Franky Jimmy Dejesus Velazquez||15::Amanda Alvear||16::Martin Benitez Torres||17::Luis Daniel Wilson-Leon||18::Mercedez Marisol Flores||19::Xavier Emmanuel Serrano Rosado||20::Gilberto Ramon Silva Menendez||21::Simon Adrian Carrillo Fernandez||22::Oscar A Aracena-Montero||23::Enrique L. Rios, Jr.||24::Miguel Angel Honorato||25::Javier Jorge-Reyes||26::Joel Rayon Paniagua||27::Jason Benjamin Josaphat||28::Cory James Connell||29::Juan P. Rivera Velazquez||30::Luis Daniel Conde||31::Shane Evan Tomlinson||32::Juan Chevez-Martinez||33::Christopher Joseph Sanfeliz||34::Jerald Arthur Wright||35::Leroy Valentin Fernandez||36::Tevin Eugene Crosby||37::Jonathan Antonio Camuy Vega||38::Jean C. Nives Rodriguez||39::Rodolfo Ayala-Ayala||40::Brenda Lee Marquez McCool||41::Yilmary Rodriguez Sulivan||42::Christopher Andrew Leinonen||43::Angel L. Candelario-Padro||44::Frank Hernandez||45::Paul Terrell Henry||46::Antonio Davon Brown||47::Akyra Monet Murray||48::Geraldo A. Ortiz-Jimenez||49::Marissa Delgado||50::Officer Michael Napolitano||51::Angel Colon||52::Rodney Sumter Jr||53::Keon Carter||54::Brand White||55::Brett Rigas||56::Chris Littlestar||57::Paula Blanco||58::Answai Bennett||59::Patience Carter||60::Tiara Parker||61::Javier Nava Coria||62::Jose \"Junior\" Martinez||63::Angel Santiago||64::Norman Casiano||65::Laura Vargas||66::Bryan Lopez||67::Brandon Wolf||68::Felipe Marrero||69::Fred Johnson||70::William Borges||71::Miguel Leiva||72::Jeffrey Rodriguez||73::Amanda Grau||75::Leonel Melendez||76::Ilka Reyes||77::Kaliesha Andino||78::Juan Jose Cufino||79::31||80::32||81::33||82::34||83::35||84::36||85::37||86::38||87::39||88::40||89::41||90::42||91::43||92::44||93::45||94::46||95::47||96::48||97::49||98::50||99::51||100::52||101::53||102::Omar Mir Seddique Mateen</td>\n",
       "      <td>NaN</td>\n",
       "      <td>0::Killed||1::Killed||2::Killed||3::Killed||4::Killed||5::Killed||6::Killed||7::Killed||8::Killed||9::Killed||10::Killed||11::Killed||12::Killed||13::Killed||14::Killed||15::Killed||16::Killed||17::Killed||18::Killed||19::Killed||20::Killed||21::Killed||22::Killed||23::Killed||24::Killed||25::Killed||26::Killed||27::Killed||28::Killed||29::Killed||30::Killed||31::Killed||32::Killed||33::Killed||34::Killed||35::Killed||36::Killed||37::Killed||38::Killed||39::Killed||40::Killed||41::Killed||42::Killed||43::Killed||44::Killed||45::Killed||46::Killed||47::Killed||48::Killed||49::Injured||50::Injured||51::Injured||52::Injured||53::Injured||54::Injured||55::Injured||56::Injured||57::Injured||58::Injured||59::Injured||60::Injured||61::Injured||62::Injured||63::Injured||64::Injured||65::Injured||66::Injured||67::Injured||68::Injured||69::Injured||70::Injured||71::Injured||72::Injured||73::Injured||74::Injured||75::Injured||76::Injured||77::Injured||78::Injured||79::Injured||80::Injured||81::Injured||82::Injured||83::Injured||84::Injured||85::Injured||86::Injured||87::Injured||88::Injured||89::Injured||90::Injured||91::Injured||92::Injured||93::Injured||94::Injured||95::Injured||96::Injured||97::Injured||98::Injured||99::Injured||100::Injured||101::Injured||102::Killed</td>\n",
       "      <td>0::Victim||1::Victim||2::Victim||3::Victim||4::Victim||5::Victim||6::Victim||7::Victim||8::Victim||9::Victim||10::Victim||11::Victim||12::Victim||13::Victim||14::Victim||15::Victim||16::Victim||17::Victim||18::Victim||19::Victim||20::Victim||21::Victim||22::Victim||23::Victim||24::Victim||25::Victim||26::Victim||27::Victim||28::Victim||29::Victim||30::Victim||31::Victim||32::Victim||33::Victim||34::Victim||35::Victim||36::Victim||37::Victim||38::Victim||39::Victim||40::Victim||41::Victim||42::Victim||43::Victim||44::Victim||45::Victim||46::Victim||47::Victim||48::Victim||49::Victim||50::Victim||51::Victim||52::Victim||53::Victim||54::Victim||55::Victim||56::Victim||57::Victim||58::Victim||59::Victim||60::Victim||61::Victim||62::Victim||63::Victim||64::Victim||65::Victim||66::Victim||67::Victim||68::Victim||69::Victim||70::Victim||71::Victim||72::Victim||73::Victim||74::Victim||75::Victim||76::Victim||77::Victim||78::Victim||79::Victim||80::Victim||81::Victim||82::Victim||83::Victim||84::Victim||85::Victim||86::Victim||87::Victim||88::Victim||89::Victim||90::Victim||91::Victim||92::Victim||93::Victim||94::Victim||95::Victim||96::Victim||97::Victim||98::Victim||99::Victim||100::Victim||101::Victim||102::Subject-Suspect</td>\n",
       "    </tr>\n",
       "  </tbody>\n",
       "</table>\n",
       "</div>"
      ],
      "text/plain": [
       "              date    state city_or_county  n_killed  n_injured  \\\n",
       "130448  2016-06-12  Florida        Orlando        50         53   \n",
       "\n",
       "                          gun_stolen                    gun_type  \\\n",
       "130448  0::Not-stolen||1::Not-stolen  0::223 Rem [AR-15]||1::9mm   \n",
       "\n",
       "                                                                                                                                                                                                                                                                                                                                                                                                                                                                                                                                                                                                                                                         incident_characteristics  \\\n",
       "130448  Shot - Wounded/Injured||Shot - Dead (murder, accidental, suicide)||Institution/Group/Business||Officer Involved Incident||Officer Involved Shooting - Officer shot||Officer Involved Shooting - subject/suspect/perpetrator killed||Mass Murder (4+ deceased victims excluding the subject/suspect/perpetrator , one location)||Mass Shooting (4+ victims injured or killed excluding the subject/suspect/perpetrator, one location)||Bar/club incident - in or around establishment||Hate crime||Terrorism Involvement||Kidnapping/abductions/hostage||Concealed Carry License - Perpetrator||Assault weapon (AR-15, AK-47, and ALL variants defined by law enforcement)   \n",
       "\n",
       "        n_guns_involved  \\\n",
       "130448              2.0   \n",
       "\n",
       "                                                                                                                                                                                                                                                                                                                                                                                                                                                                                                                              participant_age  \\\n",
       "130448  0::34||1::23||2::20||3::22||4::36||5::22||6::22||7::37||8::30||9::29||10::32||11::21||12::25||13::35||14::50||15::25||16::33||17::37||18::26||19::35||20::25||21::31||22::26||23::25||24::30||25::40||26::32||27::19||28::21||29::37||30::39||31::33||32::25||33::24||34::31||35::25||36::25||37::24||38::27||39::33||40::49||41::24||42::32||43::28||44::27||45::41||46::29||47::18||48::25||51::26||52::27||54::30||56::25||58::25||59::20||60::20||63::32||64::26||67::27||68::30||71::29||72::37||74::19||77::19||78::30||102::29   \n",
       "\n",
       "                                                                                                                                                                                                                                                                                                                                                                                                                                                                                                                                                                                                                                                                                                                                                                                                                                                                                                                                                                                                                                                                                                                                                                                                                                                                                                                                                                                                                                                                                                                                                                                   participant_age_group  \\\n",
       "130448  0::Adult 18+||1::Adult 18+||2::Adult 18+||3::Adult 18+||4::Adult 18+||5::Adult 18+||6::Adult 18+||7::Adult 18+||8::Adult 18+||9::Adult 18+||10::Adult 18+||11::Adult 18+||12::Adult 18+||13::Adult 18+||14::Adult 18+||15::Adult 18+||16::Adult 18+||17::Adult 18+||18::Adult 18+||19::Adult 18+||20::Adult 18+||21::Adult 18+||22::Adult 18+||23::Adult 18+||24::Adult 18+||25::Adult 18+||26::Adult 18+||27::Adult 18+||28::Adult 18+||29::Adult 18+||30::Adult 18+||31::Adult 18+||32::Adult 18+||33::Adult 18+||34::Adult 18+||35::Adult 18+||36::Adult 18+||37::Adult 18+||38::Adult 18+||39::Adult 18+||40::Adult 18+||41::Adult 18+||42::Adult 18+||43::Adult 18+||44::Adult 18+||45::Adult 18+||46::Adult 18+||47::Adult 18+||48::Adult 18+||49::Adult 18+||50::Adult 18+||51::Adult 18+||52::Adult 18+||53::Adult 18+||54::Adult 18+||55::Adult 18+||56::Adult 18+||57::Adult 18+||58::Adult 18+||59::Adult 18+||60::Adult 18+||61::Adult 18+||62::Adult 18+||63::Adult 18+||64::Adult 18+||65::Adult 18+||66::Adult 18+||67::Adult 18+||68::Adult 18+||69::Adult 18+||70::Adult 18+||71::Adult 18+||72::Adult 18+||73::Adult 18+||74::Adult 18+||75::Adult 18+||76::Adult 18+||77::Adult 18+||78::Adult 18+||79::Adult 18+||80::Adult 18+||81::Adult 18+||82::Adult 18+||83::Adult 18+||84::Adult 18+||85::Adult 18+||86::Adult 18+||87::Adult 18+||88::Adult 18+||89::Adult 18+||90::Adult 18+||91::Adult 18+||92::Adult 18+||93::Adult 18+||94::Adult 18+||95::Adult 18+||96::Adult 18+||97::Adult 18+||98::Adult 18+||99::Adult 18+||100::Adult 18+||101::Adult 18+||102::Adult 18+   \n",
       "\n",
       "                                                                                                                                                                                                                                                                                                                                                                                                                                                                                                                                                                                                                                                                                                                                                                                                                         participant_gender  \\\n",
       "130448  0::Male||1::Male||2::Male||3::Male||4::Male||5::Male||6::Male||7::Female||8::Female||9::Male||10::Female||11::Male||12::Male||13::Male||14::Male||15::Female||16::Male||17::Male||18::Female||19::Male||20::Male||21::Male||22::Male||23::Male||24::Male||25::Male||26::Male||27::Male||28::Male||29::Male||30::Male||31::Male||32::Male||33::Male||34::Male||35::Male||36::Male||37::Male||38::Female||39::Male||40::Female||41::Female||42::Male||43::Male||44::Male||45::Male||46::Male||47::Female||48::Male||49::Female||50::Male||51::Male||52::Male||53::Male||54::Male||55::Male||56::Male||57::Female||58::Male||59::Female||60::Female||61::Male||62::Male||63::Male||64::Male||65::Female||66::Male||67::Male||68::Male||69::Male||70::Male||71::Male||72::Male||73::Female||74::Female||75::Male||76::Female||102::Male   \n",
       "\n",
       "                                                                                                                                                                                                                                                                                                                                                                                                                                                                                                                                                                                                                                                                                                                                                                                                                                                                                                                                                                                                                                                                                                                                                                                                                                                                                                                                                                                                                                                                                                                                                                                                                                                                                                                                                                                                                                                                                                                                                                                                                                                                                                                                                                                                                                participant_name  \\\n",
       "130448  0::Edward Sotomayor Jr||1::Stanley Almodovar III||2::Luis Omar Ocasio-Capo||3::Juan Ramon Guerrero||4::Eric I Ortiz-Rivera||5::Peter O. Gonzalez-Cruz||6::Luis S. Vielma||7::Kimberly KJ Morris||8::Eddie Jamoldroy Justice||9::Darryl Roman Burt II||10::Deonka Deidra Drayton||11::Alejandro Barrios Martinez||12::Anthony Luis Laureanodisla||13::Jean Carlos Mendez Perez||14::Franky Jimmy Dejesus Velazquez||15::Amanda Alvear||16::Martin Benitez Torres||17::Luis Daniel Wilson-Leon||18::Mercedez Marisol Flores||19::Xavier Emmanuel Serrano Rosado||20::Gilberto Ramon Silva Menendez||21::Simon Adrian Carrillo Fernandez||22::Oscar A Aracena-Montero||23::Enrique L. Rios, Jr.||24::Miguel Angel Honorato||25::Javier Jorge-Reyes||26::Joel Rayon Paniagua||27::Jason Benjamin Josaphat||28::Cory James Connell||29::Juan P. Rivera Velazquez||30::Luis Daniel Conde||31::Shane Evan Tomlinson||32::Juan Chevez-Martinez||33::Christopher Joseph Sanfeliz||34::Jerald Arthur Wright||35::Leroy Valentin Fernandez||36::Tevin Eugene Crosby||37::Jonathan Antonio Camuy Vega||38::Jean C. Nives Rodriguez||39::Rodolfo Ayala-Ayala||40::Brenda Lee Marquez McCool||41::Yilmary Rodriguez Sulivan||42::Christopher Andrew Leinonen||43::Angel L. Candelario-Padro||44::Frank Hernandez||45::Paul Terrell Henry||46::Antonio Davon Brown||47::Akyra Monet Murray||48::Geraldo A. Ortiz-Jimenez||49::Marissa Delgado||50::Officer Michael Napolitano||51::Angel Colon||52::Rodney Sumter Jr||53::Keon Carter||54::Brand White||55::Brett Rigas||56::Chris Littlestar||57::Paula Blanco||58::Answai Bennett||59::Patience Carter||60::Tiara Parker||61::Javier Nava Coria||62::Jose \"Junior\" Martinez||63::Angel Santiago||64::Norman Casiano||65::Laura Vargas||66::Bryan Lopez||67::Brandon Wolf||68::Felipe Marrero||69::Fred Johnson||70::William Borges||71::Miguel Leiva||72::Jeffrey Rodriguez||73::Amanda Grau||75::Leonel Melendez||76::Ilka Reyes||77::Kaliesha Andino||78::Juan Jose Cufino||79::31||80::32||81::33||82::34||83::35||84::36||85::37||86::38||87::39||88::40||89::41||90::42||91::43||92::44||93::45||94::46||95::47||96::48||97::49||98::50||99::51||100::52||101::53||102::Omar Mir Seddique Mateen   \n",
       "\n",
       "       participant_relationship  \\\n",
       "130448                      NaN   \n",
       "\n",
       "                                                                                                                                                                                                                                                                                                                                                                                                                                                                                                                                                                                                                                                                                                                                                                                                                                                                                                                                                                                                                                                                                                                                                                                                                                                                                                                      participant_status  \\\n",
       "130448  0::Killed||1::Killed||2::Killed||3::Killed||4::Killed||5::Killed||6::Killed||7::Killed||8::Killed||9::Killed||10::Killed||11::Killed||12::Killed||13::Killed||14::Killed||15::Killed||16::Killed||17::Killed||18::Killed||19::Killed||20::Killed||21::Killed||22::Killed||23::Killed||24::Killed||25::Killed||26::Killed||27::Killed||28::Killed||29::Killed||30::Killed||31::Killed||32::Killed||33::Killed||34::Killed||35::Killed||36::Killed||37::Killed||38::Killed||39::Killed||40::Killed||41::Killed||42::Killed||43::Killed||44::Killed||45::Killed||46::Killed||47::Killed||48::Killed||49::Injured||50::Injured||51::Injured||52::Injured||53::Injured||54::Injured||55::Injured||56::Injured||57::Injured||58::Injured||59::Injured||60::Injured||61::Injured||62::Injured||63::Injured||64::Injured||65::Injured||66::Injured||67::Injured||68::Injured||69::Injured||70::Injured||71::Injured||72::Injured||73::Injured||74::Injured||75::Injured||76::Injured||77::Injured||78::Injured||79::Injured||80::Injured||81::Injured||82::Injured||83::Injured||84::Injured||85::Injured||86::Injured||87::Injured||88::Injured||89::Injured||90::Injured||91::Injured||92::Injured||93::Injured||94::Injured||95::Injured||96::Injured||97::Injured||98::Injured||99::Injured||100::Injured||101::Injured||102::Killed   \n",
       "\n",
       "                                                                                                                                                                                                                                                                                                                                                                                                                                                                                                                                                                                                                                                                                                                                                                                                                                                                                                                                                                                                                                                                                                                                                                                                                                                                            participant_type  \n",
       "130448  0::Victim||1::Victim||2::Victim||3::Victim||4::Victim||5::Victim||6::Victim||7::Victim||8::Victim||9::Victim||10::Victim||11::Victim||12::Victim||13::Victim||14::Victim||15::Victim||16::Victim||17::Victim||18::Victim||19::Victim||20::Victim||21::Victim||22::Victim||23::Victim||24::Victim||25::Victim||26::Victim||27::Victim||28::Victim||29::Victim||30::Victim||31::Victim||32::Victim||33::Victim||34::Victim||35::Victim||36::Victim||37::Victim||38::Victim||39::Victim||40::Victim||41::Victim||42::Victim||43::Victim||44::Victim||45::Victim||46::Victim||47::Victim||48::Victim||49::Victim||50::Victim||51::Victim||52::Victim||53::Victim||54::Victim||55::Victim||56::Victim||57::Victim||58::Victim||59::Victim||60::Victim||61::Victim||62::Victim||63::Victim||64::Victim||65::Victim||66::Victim||67::Victim||68::Victim||69::Victim||70::Victim||71::Victim||72::Victim||73::Victim||74::Victim||75::Victim||76::Victim||77::Victim||78::Victim||79::Victim||80::Victim||81::Victim||82::Victim||83::Victim||84::Victim||85::Victim||86::Victim||87::Victim||88::Victim||89::Victim||90::Victim||91::Victim||92::Victim||93::Victim||94::Victim||95::Victim||96::Victim||97::Victim||98::Victim||99::Victim||100::Victim||101::Victim||102::Subject-Suspect  "
      ]
     },
     "execution_count": 45,
     "metadata": {},
     "output_type": "execute_result"
    }
   ],
   "source": [
    "df[df[\"n_killed\"] == 50]"
   ]
  },
  {
   "cell_type": "markdown",
   "metadata": {},
   "source": [
    "### NOTE: _Sutherland Springs Church Shooting_"
   ]
  },
  {
   "cell_type": "code",
   "execution_count": 46,
   "metadata": {},
   "outputs": [
    {
     "data": {
      "text/html": [
       "<div>\n",
       "<style scoped>\n",
       "    .dataframe tbody tr th:only-of-type {\n",
       "        vertical-align: middle;\n",
       "    }\n",
       "\n",
       "    .dataframe tbody tr th {\n",
       "        vertical-align: top;\n",
       "    }\n",
       "\n",
       "    .dataframe thead th {\n",
       "        text-align: right;\n",
       "    }\n",
       "</style>\n",
       "<table border=\"1\" class=\"dataframe\">\n",
       "  <thead>\n",
       "    <tr style=\"text-align: right;\">\n",
       "      <th></th>\n",
       "      <th>date</th>\n",
       "      <th>state</th>\n",
       "      <th>city_or_county</th>\n",
       "      <th>n_killed</th>\n",
       "      <th>n_injured</th>\n",
       "      <th>gun_stolen</th>\n",
       "      <th>gun_type</th>\n",
       "      <th>incident_characteristics</th>\n",
       "      <th>n_guns_involved</th>\n",
       "      <th>participant_age</th>\n",
       "      <th>participant_age_group</th>\n",
       "      <th>participant_gender</th>\n",
       "      <th>participant_name</th>\n",
       "      <th>participant_relationship</th>\n",
       "      <th>participant_status</th>\n",
       "      <th>participant_type</th>\n",
       "    </tr>\n",
       "  </thead>\n",
       "  <tbody>\n",
       "    <tr>\n",
       "      <th>217151</th>\n",
       "      <td>2017-11-05</td>\n",
       "      <td>Texas</td>\n",
       "      <td>Sutherland Springs</td>\n",
       "      <td>27</td>\n",
       "      <td>20</td>\n",
       "      <td>0::Unknown||1::Unknown||2::Unknown||3::Unknown</td>\n",
       "      <td>0::223 Rem [AR-15]||1::Rifle||2::9mm||3::22 LR</td>\n",
       "      <td>Shot - Wounded/Injured||Shot - Dead (murder, accidental, suicide)||Suicide^||Institution/Group/Business||Child Involved Incident||Child killed (not child shooter)||Child injured (not child shooter)||Defensive Use||Defensive Use - Crime occurs, victim shoots subject/suspect/perpetrator||Defensive Use - Good Samaritan/Third Party||Mass Murder (4+ deceased victims excluding the subject/suspect/perpetrator , one location)||Mass Shooting (4+ victims injured or killed excluding the subject/suspect/perpetrator, one location)||Shootout (where VENN diagram of shooters and victims overlap)||Domestic Violence||Possession of gun by felon or prohibited person||Assault weapon (AR-15, AK-47, and ALL variants defined by law enforcement)</td>\n",
       "      <td>4.0</td>\n",
       "      <td>0::14||1::7||2::5||3::30||4::58||5::60||6::36||7::36||8::1||9::11||10::9||11::13||12::51||13::56||14::71||15::16||16::51||17::51||18::77||19::68||20::58||21::56||22::33||23::64||24::66||25::62||26::3||28::73||29::5||34::34||38::18||46::26</td>\n",
       "      <td>0::Teen 12-17||1::Child 0-11||2::Child 0-11||3::Adult 18+||4::Adult 18+||5::Adult 18+||6::Adult 18+||7::Adult 18+||8::Child 0-11||9::Child 0-11||10::Child 0-11||11::Teen 12-17||12::Adult 18+||13::Adult 18+||14::Adult 18+||15::Teen 12-17||16::Adult 18+||17::Adult 18+||18::Adult 18+||19::Adult 18+||20::Adult 18+||21::Adult 18+||22::Adult 18+||23::Adult 18+||24::Adult 18+||25::Adult 18+||26::Child 0-11||27::Adult 18+||28::Adult 18+||29::Child 0-11||30::Adult 18+||31::Child 0-11||32::Child 0-11||33::Adult 18+||34::Adult 18+||35::Adult 18+||36::Adult 18+||37::Adult 18+||38::Adult 18+||39::Adult 18+||40::Child 0-11||41::Child 0-11||46::Adult 18+</td>\n",
       "      <td>0::Female||1::Female||2::Female||3::Female||4::Female||5::Male||6::Female||7::Male||8::Female||9::Female||10::Female||11::Male||12::Male||13::Female||14::Female||15::Female||16::Male||17::Female||18::Male||19::Female||20::Male||21::Female||22::Female||23::Male||24::Female||25::Male||26::Male||27::Male||28::Female||29::Male||30::Male||31::Female||32::Male||33::Female||34::Male||35::Male||36::Female||37::Male||38::Male||39::Female||41::Female||46::Male</td>\n",
       "      <td>0::Annabelle Renee Pomeroy||1::Emily Garcia||2::Brooke Ward||3::Joann Ward||4::Karla Holcombe||5::Bryan Holcombe||6::Crystal Holcombe||7::Marc Daniel Holcombe||8::Noah Holcombe||9::Emily Hill||10::Megan Hill||11::Greg Hill||12::Richard Rodriguez||13::Peggy Lynn Warden||14::Lula White||15::Haley Krueger||16::Robert Corrigan||17::Shani Corrigan||18::Dennis Johnson Jr||19::Sara Johnson||20::R Scott Marshall||21::Karen Marshall||22::Tara McNulty||23::Richard Rodriguez||24::Theresa Rodriguez||25::Keith Allen Warden||27::John Holcombe||28::Farida Brown||29::Ryland Ward||30::David Colbath||31::Hailey McNulty||32::James McNulty||33::Rosa Solis||34::Kris Workman||35::Joaquin Ramirez||36::Debbie Braden||37::Bob Braden||38::Zachary Poston||39::Julie Workman||46::Devin Patrick Kelley</td>\n",
       "      <td>NaN</td>\n",
       "      <td>0::Killed||1::Killed||2::Killed||3::Killed||4::Killed||5::Killed||6::Killed||7::Killed||8::Killed||9::Killed||10::Killed||11::Killed||12::Killed||13::Killed||14::Killed||15::Killed||16::Killed||17::Killed||18::Killed||19::Killed||20::Killed||21::Killed||22::Killed||23::Killed||24::Killed||25::Killed||26::Injured||27::Injured||28::Injured||29::Injured||30::Injured||31::Injured||32::Injured||33::Injured||34::Injured||35::Injured||36::Injured||37::Injured||38::Injured||39::Injured||40::Injured||41::Injured||42::Injured||43::Injured||44::Injured||45::Injured||46::Killed</td>\n",
       "      <td>0::Victim||1::Victim||2::Victim||3::Victim||4::Victim||5::Victim||6::Victim||7::Victim||8::Victim||9::Victim||10::Victim||11::Victim||12::Victim||13::Victim||14::Victim||15::Victim||16::Victim||17::Victim||18::Victim||19::Victim||20::Victim||21::Victim||22::Victim||23::Victim||24::Victim||25::Victim||26::Victim||27::Victim||28::Victim||29::Victim||30::Victim||31::Victim||32::Victim||33::Victim||34::Victim||35::Victim||36::Victim||37::Victim||38::Victim||39::Victim||40::Victim||41::Victim||42::Victim||43::Victim||44::Victim||45::Victim||46::Subject-Suspect</td>\n",
       "    </tr>\n",
       "  </tbody>\n",
       "</table>\n",
       "</div>"
      ],
      "text/plain": [
       "              date  state      city_or_county  n_killed  n_injured  \\\n",
       "217151  2017-11-05  Texas  Sutherland Springs        27         20   \n",
       "\n",
       "                                            gun_stolen  \\\n",
       "217151  0::Unknown||1::Unknown||2::Unknown||3::Unknown   \n",
       "\n",
       "                                              gun_type  \\\n",
       "217151  0::223 Rem [AR-15]||1::Rifle||2::9mm||3::22 LR   \n",
       "\n",
       "                                                                                                                                                                                                                                                                                                                                                                                                                                                                                                                                                                                                                                                                                                                                          incident_characteristics  \\\n",
       "217151  Shot - Wounded/Injured||Shot - Dead (murder, accidental, suicide)||Suicide^||Institution/Group/Business||Child Involved Incident||Child killed (not child shooter)||Child injured (not child shooter)||Defensive Use||Defensive Use - Crime occurs, victim shoots subject/suspect/perpetrator||Defensive Use - Good Samaritan/Third Party||Mass Murder (4+ deceased victims excluding the subject/suspect/perpetrator , one location)||Mass Shooting (4+ victims injured or killed excluding the subject/suspect/perpetrator, one location)||Shootout (where VENN diagram of shooters and victims overlap)||Domestic Violence||Possession of gun by felon or prohibited person||Assault weapon (AR-15, AK-47, and ALL variants defined by law enforcement)   \n",
       "\n",
       "        n_guns_involved  \\\n",
       "217151              4.0   \n",
       "\n",
       "                                                                                                                                                                                                                                       participant_age  \\\n",
       "217151  0::14||1::7||2::5||3::30||4::58||5::60||6::36||7::36||8::1||9::11||10::9||11::13||12::51||13::56||14::71||15::16||16::51||17::51||18::77||19::68||20::58||21::56||22::33||23::64||24::66||25::62||26::3||28::73||29::5||34::34||38::18||46::26   \n",
       "\n",
       "                                                                                                                                                                                                                                                                                                                                                                                                                                                                                                                                                                                                                                                          participant_age_group  \\\n",
       "217151  0::Teen 12-17||1::Child 0-11||2::Child 0-11||3::Adult 18+||4::Adult 18+||5::Adult 18+||6::Adult 18+||7::Adult 18+||8::Child 0-11||9::Child 0-11||10::Child 0-11||11::Teen 12-17||12::Adult 18+||13::Adult 18+||14::Adult 18+||15::Teen 12-17||16::Adult 18+||17::Adult 18+||18::Adult 18+||19::Adult 18+||20::Adult 18+||21::Adult 18+||22::Adult 18+||23::Adult 18+||24::Adult 18+||25::Adult 18+||26::Child 0-11||27::Adult 18+||28::Adult 18+||29::Child 0-11||30::Adult 18+||31::Child 0-11||32::Child 0-11||33::Adult 18+||34::Adult 18+||35::Adult 18+||36::Adult 18+||37::Adult 18+||38::Adult 18+||39::Adult 18+||40::Child 0-11||41::Child 0-11||46::Adult 18+   \n",
       "\n",
       "                                                                                                                                                                                                                                                                                                                                                                                                                                                            participant_gender  \\\n",
       "217151  0::Female||1::Female||2::Female||3::Female||4::Female||5::Male||6::Female||7::Male||8::Female||9::Female||10::Female||11::Male||12::Male||13::Female||14::Female||15::Female||16::Male||17::Female||18::Male||19::Female||20::Male||21::Female||22::Female||23::Male||24::Female||25::Male||26::Male||27::Male||28::Female||29::Male||30::Male||31::Female||32::Male||33::Female||34::Male||35::Male||36::Female||37::Male||38::Male||39::Female||41::Female||46::Male   \n",
       "\n",
       "                                                                                                                                                                                                                                                                                                                                                                                                                                                                                                                                                                                                                                                                                                                                                                                                      participant_name  \\\n",
       "217151  0::Annabelle Renee Pomeroy||1::Emily Garcia||2::Brooke Ward||3::Joann Ward||4::Karla Holcombe||5::Bryan Holcombe||6::Crystal Holcombe||7::Marc Daniel Holcombe||8::Noah Holcombe||9::Emily Hill||10::Megan Hill||11::Greg Hill||12::Richard Rodriguez||13::Peggy Lynn Warden||14::Lula White||15::Haley Krueger||16::Robert Corrigan||17::Shani Corrigan||18::Dennis Johnson Jr||19::Sara Johnson||20::R Scott Marshall||21::Karen Marshall||22::Tara McNulty||23::Richard Rodriguez||24::Theresa Rodriguez||25::Keith Allen Warden||27::John Holcombe||28::Farida Brown||29::Ryland Ward||30::David Colbath||31::Hailey McNulty||32::James McNulty||33::Rosa Solis||34::Kris Workman||35::Joaquin Ramirez||36::Debbie Braden||37::Bob Braden||38::Zachary Poston||39::Julie Workman||46::Devin Patrick Kelley   \n",
       "\n",
       "       participant_relationship  \\\n",
       "217151                      NaN   \n",
       "\n",
       "                                                                                                                                                                                                                                                                                                                                                                                                                                                                                                                                                                                  participant_status  \\\n",
       "217151  0::Killed||1::Killed||2::Killed||3::Killed||4::Killed||5::Killed||6::Killed||7::Killed||8::Killed||9::Killed||10::Killed||11::Killed||12::Killed||13::Killed||14::Killed||15::Killed||16::Killed||17::Killed||18::Killed||19::Killed||20::Killed||21::Killed||22::Killed||23::Killed||24::Killed||25::Killed||26::Injured||27::Injured||28::Injured||29::Injured||30::Injured||31::Injured||32::Injured||33::Injured||34::Injured||35::Injured||36::Injured||37::Injured||38::Injured||39::Injured||40::Injured||41::Injured||42::Injured||43::Injured||44::Injured||45::Injured||46::Killed   \n",
       "\n",
       "                                                                                                                                                                                                                                                                                                                                                                                                                                                                                                                                                                         participant_type  \n",
       "217151  0::Victim||1::Victim||2::Victim||3::Victim||4::Victim||5::Victim||6::Victim||7::Victim||8::Victim||9::Victim||10::Victim||11::Victim||12::Victim||13::Victim||14::Victim||15::Victim||16::Victim||17::Victim||18::Victim||19::Victim||20::Victim||21::Victim||22::Victim||23::Victim||24::Victim||25::Victim||26::Victim||27::Victim||28::Victim||29::Victim||30::Victim||31::Victim||32::Victim||33::Victim||34::Victim||35::Victim||36::Victim||37::Victim||38::Victim||39::Victim||40::Victim||41::Victim||42::Victim||43::Victim||44::Victim||45::Victim||46::Subject-Suspect  "
      ]
     },
     "execution_count": 46,
     "metadata": {},
     "output_type": "execute_result"
    }
   ],
   "source": [
    "df[df[\"n_killed\"] == 27]"
   ]
  },
  {
   "cell_type": "markdown",
   "metadata": {},
   "source": [
    "### NOTE: _San Bernardino Shooting_"
   ]
  },
  {
   "cell_type": "code",
   "execution_count": 47,
   "metadata": {},
   "outputs": [
    {
     "data": {
      "text/html": [
       "<div>\n",
       "<style scoped>\n",
       "    .dataframe tbody tr th:only-of-type {\n",
       "        vertical-align: middle;\n",
       "    }\n",
       "\n",
       "    .dataframe tbody tr th {\n",
       "        vertical-align: top;\n",
       "    }\n",
       "\n",
       "    .dataframe thead th {\n",
       "        text-align: right;\n",
       "    }\n",
       "</style>\n",
       "<table border=\"1\" class=\"dataframe\">\n",
       "  <thead>\n",
       "    <tr style=\"text-align: right;\">\n",
       "      <th></th>\n",
       "      <th>date</th>\n",
       "      <th>state</th>\n",
       "      <th>city_or_county</th>\n",
       "      <th>n_killed</th>\n",
       "      <th>n_injured</th>\n",
       "      <th>gun_stolen</th>\n",
       "      <th>gun_type</th>\n",
       "      <th>incident_characteristics</th>\n",
       "      <th>n_guns_involved</th>\n",
       "      <th>participant_age</th>\n",
       "      <th>participant_age_group</th>\n",
       "      <th>participant_gender</th>\n",
       "      <th>participant_name</th>\n",
       "      <th>participant_relationship</th>\n",
       "      <th>participant_status</th>\n",
       "      <th>participant_type</th>\n",
       "    </tr>\n",
       "  </thead>\n",
       "  <tbody>\n",
       "    <tr>\n",
       "      <th>101531</th>\n",
       "      <td>2015-12-02</td>\n",
       "      <td>California</td>\n",
       "      <td>San Bernardino</td>\n",
       "      <td>16</td>\n",
       "      <td>19</td>\n",
       "      <td>0::Not-stolen||1::Not-stolen||2::Not-stolen||3::Not-stolen</td>\n",
       "      <td>0::223 Rem [AR-15]||1::223 Rem [AR-15]||2::9mm||3::9mm</td>\n",
       "      <td>Shot - Wounded/Injured||Shot - Dead (murder, accidental, suicide)||Institution/Group/Business||Officer Involved Incident||Officer Involved Shooting - Officer shot||Officer Involved Shooting - subject/suspect/perpetrator killed||Mass Murder (4+ deceased victims excluding the subject/suspect/perpetrator , one location)||Mass Shooting (4+ victims injured or killed excluding the subject/suspect/perpetrator, one location)||Terrorism Involvement||Workplace shooting (disgruntled employee)</td>\n",
       "      <td>4.0</td>\n",
       "      <td>0::42||1::58||2::52||3::37||4::40||5::27||6::45||7::46||8::26||9::60||10::46||11::27||12::31||13::50||15::42||16::31||17::27||18::55||19::24||20::22||35::27||36::28</td>\n",
       "      <td>0::Adult 18+||1::Adult 18+||2::Adult 18+||3::Adult 18+||4::Adult 18+||5::Adult 18+||6::Adult 18+||7::Adult 18+||8::Adult 18+||9::Adult 18+||10::Adult 18+||11::Adult 18+||12::Adult 18+||13::Adult 18+||14::Adult 18+||15::Adult 18+||16::Adult 18+||17::Adult 18+||18::Adult 18+||19::Adult 18+||20::Adult 18+||21::Adult 18+||26::Adult 18+||27::Adult 18+||28::Adult 18+||29::Adult 18+||30::Adult 18+||31::Adult 18+||32::Adult 18+||33::Adult 18+||34::Adult 18+||35::Adult 18+||36::Adult 18+</td>\n",
       "      <td>0::Male||1::Male||3::Male||4::Male||5::Female||6::Male||7::Female||8::Female||9::Male||10::Male||11::Female||12::Female||13::Male||14::Male||15::Female||16::Female||17::Female||18::Male||19::Male||20::Female||21::Female||35::Female||36::Male</td>\n",
       "      <td>0::Larry Daniel Kaufman||1::Damian Meins||2::Nicholas Thalasinos||3::Michael Raymond Wetzel||4::Robert Adams||5::Yvette Velasco||6::Shannon Johnson||7::Bennetta Bet-Badal||8::Aurora Godoy||9::Isaac Amanios||10::Harry Bowman||11::Sierra Clayborn||12::Tin Nguyen||13::Juan Espinoza||14::Officer Nicholas Koahou||15::Anies Kondoker||16::Amanda Gaspard||17::Denise Peraza||18::Patrick Baccari||19::Kevin Ortiz||20::Jennifer Stevens||21::Julie Swann-Paez||35::Tashfeen Malik||36::Syed Rizwan Farook</td>\n",
       "      <td>NaN</td>\n",
       "      <td>0::Killed||1::Killed||2::Killed||3::Killed||4::Killed||5::Killed||6::Killed||7::Killed||8::Killed||9::Killed||10::Killed||11::Killed||12::Killed||13::Killed||14::Injured||15::Injured||16::Injured||17::Injured||18::Injured||19::Injured||20::Injured||21::Injured||22::Injured||23::Injured||24::Injured||25::Injured||27::Injured||28::Injured||29::Injured||30::Injured||31::Injured||32::Injured||33::Injured||35::Killed||36::Killed</td>\n",
       "      <td>0::Victim||1::Victim||2::Victim||3::Victim||4::Victim||5::Victim||6::Victim||7::Victim||8::Victim||9::Victim||10::Victim||11::Victim||12::Victim||13::Victim||14::Victim||15::Victim||16::Victim||17::Victim||18::Victim||19::Victim||20::Victim||21::Victim||22::Victim||23::Victim||24::Victim||25::Victim||26::Victim||27::Victim||28::Victim||29::Victim||30::Victim||31::Victim||32::Victim||33::Victim||34::Victim||35::Subject-Suspect||36::Subject-Suspect</td>\n",
       "    </tr>\n",
       "  </tbody>\n",
       "</table>\n",
       "</div>"
      ],
      "text/plain": [
       "              date       state  city_or_county  n_killed  n_injured  \\\n",
       "101531  2015-12-02  California  San Bernardino        16         19   \n",
       "\n",
       "                                                        gun_stolen  \\\n",
       "101531  0::Not-stolen||1::Not-stolen||2::Not-stolen||3::Not-stolen   \n",
       "\n",
       "                                                      gun_type  \\\n",
       "101531  0::223 Rem [AR-15]||1::223 Rem [AR-15]||2::9mm||3::9mm   \n",
       "\n",
       "                                                                                                                                                                                                                                                                                                                                                                                                                                                                                      incident_characteristics  \\\n",
       "101531  Shot - Wounded/Injured||Shot - Dead (murder, accidental, suicide)||Institution/Group/Business||Officer Involved Incident||Officer Involved Shooting - Officer shot||Officer Involved Shooting - subject/suspect/perpetrator killed||Mass Murder (4+ deceased victims excluding the subject/suspect/perpetrator , one location)||Mass Shooting (4+ victims injured or killed excluding the subject/suspect/perpetrator, one location)||Terrorism Involvement||Workplace shooting (disgruntled employee)   \n",
       "\n",
       "        n_guns_involved  \\\n",
       "101531              4.0   \n",
       "\n",
       "                                                                                                                                                             participant_age  \\\n",
       "101531  0::42||1::58||2::52||3::37||4::40||5::27||6::45||7::46||8::26||9::60||10::46||11::27||12::31||13::50||15::42||16::31||17::27||18::55||19::24||20::22||35::27||36::28   \n",
       "\n",
       "                                                                                                                                                                                                                                                                                                                                                                                                                                                                                      participant_age_group  \\\n",
       "101531  0::Adult 18+||1::Adult 18+||2::Adult 18+||3::Adult 18+||4::Adult 18+||5::Adult 18+||6::Adult 18+||7::Adult 18+||8::Adult 18+||9::Adult 18+||10::Adult 18+||11::Adult 18+||12::Adult 18+||13::Adult 18+||14::Adult 18+||15::Adult 18+||16::Adult 18+||17::Adult 18+||18::Adult 18+||19::Adult 18+||20::Adult 18+||21::Adult 18+||26::Adult 18+||27::Adult 18+||28::Adult 18+||29::Adult 18+||30::Adult 18+||31::Adult 18+||32::Adult 18+||33::Adult 18+||34::Adult 18+||35::Adult 18+||36::Adult 18+   \n",
       "\n",
       "                                                                                                                                                                                                                                       participant_gender  \\\n",
       "101531  0::Male||1::Male||3::Male||4::Male||5::Female||6::Male||7::Female||8::Female||9::Male||10::Male||11::Female||12::Female||13::Male||14::Male||15::Female||16::Female||17::Female||18::Male||19::Male||20::Female||21::Female||35::Female||36::Male   \n",
       "\n",
       "                                                                                                                                                                                                                                                                                                                                                                                                                                                                                                     participant_name  \\\n",
       "101531  0::Larry Daniel Kaufman||1::Damian Meins||2::Nicholas Thalasinos||3::Michael Raymond Wetzel||4::Robert Adams||5::Yvette Velasco||6::Shannon Johnson||7::Bennetta Bet-Badal||8::Aurora Godoy||9::Isaac Amanios||10::Harry Bowman||11::Sierra Clayborn||12::Tin Nguyen||13::Juan Espinoza||14::Officer Nicholas Koahou||15::Anies Kondoker||16::Amanda Gaspard||17::Denise Peraza||18::Patrick Baccari||19::Kevin Ortiz||20::Jennifer Stevens||21::Julie Swann-Paez||35::Tashfeen Malik||36::Syed Rizwan Farook   \n",
       "\n",
       "       participant_relationship  \\\n",
       "101531                      NaN   \n",
       "\n",
       "                                                                                                                                                                                                                                                                                                                                                                                                                                 participant_status  \\\n",
       "101531  0::Killed||1::Killed||2::Killed||3::Killed||4::Killed||5::Killed||6::Killed||7::Killed||8::Killed||9::Killed||10::Killed||11::Killed||12::Killed||13::Killed||14::Injured||15::Injured||16::Injured||17::Injured||18::Injured||19::Injured||20::Injured||21::Injured||22::Injured||23::Injured||24::Injured||25::Injured||27::Injured||28::Injured||29::Injured||30::Injured||31::Injured||32::Injured||33::Injured||35::Killed||36::Killed   \n",
       "\n",
       "                                                                                                                                                                                                                                                                                                                                                                                                                                                          participant_type  \n",
       "101531  0::Victim||1::Victim||2::Victim||3::Victim||4::Victim||5::Victim||6::Victim||7::Victim||8::Victim||9::Victim||10::Victim||11::Victim||12::Victim||13::Victim||14::Victim||15::Victim||16::Victim||17::Victim||18::Victim||19::Victim||20::Victim||21::Victim||22::Victim||23::Victim||24::Victim||25::Victim||26::Victim||27::Victim||28::Victim||29::Victim||30::Victim||31::Victim||32::Victim||33::Victim||34::Victim||35::Subject-Suspect||36::Subject-Suspect  "
      ]
     },
     "execution_count": 47,
     "metadata": {},
     "output_type": "execute_result"
    }
   ],
   "source": [
    "df[df[\"n_killed\"] == 16]"
   ]
  }
 ],
 "metadata": {
  "kernelspec": {
   "display_name": "Python 3",
   "language": "python",
   "name": "python3"
  },
  "language_info": {
   "codemirror_mode": {
    "name": "ipython",
    "version": 3
   },
   "file_extension": ".py",
   "mimetype": "text/x-python",
   "name": "python",
   "nbconvert_exporter": "python",
   "pygments_lexer": "ipython3",
   "version": "3.7.1"
  }
 },
 "nbformat": 4,
 "nbformat_minor": 2
}
