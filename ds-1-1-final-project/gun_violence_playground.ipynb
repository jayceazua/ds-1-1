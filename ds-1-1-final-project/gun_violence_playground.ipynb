{
 "cells": [
  {
   "cell_type": "markdown",
   "metadata": {},
   "source": [
    "# DS 1.1 Playground: _Gun Violence_\n",
    "\n",
    "***"
   ]
  },
  {
   "cell_type": "markdown",
   "metadata": {},
   "source": [
    "## DS Process - Modified Step #1: `Get Data`"
   ]
  },
  {
   "cell_type": "markdown",
   "metadata": {},
   "source": [
    "### Import Statements and Initializations"
   ]
  },
  {
   "cell_type": "code",
   "execution_count": 1,
   "metadata": {},
   "outputs": [],
   "source": [
    "import numpy as np                 # NumPy: Numerical Python -- Direct Operations on Numerical Data\n",
    "import pandas as pd                # Data Manipulation Library -- High-Power, High-Computation\n",
    "import seaborn as sns              # Basic Data Visualization Library -- Beautiful but Inflexible\n",
    "import matplotlib.pyplot as plt    # Adv. Data Visualization Library -- Flexible but Complex\n",
    "import scipy.stats as stats        # Statistical Analysis Package -- Advanced Data Analysis\n",
    "import glob\n",
    "pd.options.display.max_colwidth = 5000"
   ]
  },
  {
   "cell_type": "code",
   "execution_count": null,
   "metadata": {},
   "outputs": [],
   "source": []
  },
  {
   "cell_type": "code",
   "execution_count": 2,
   "metadata": {},
   "outputs": [],
   "source": [
    "PATH = \"./gun-violence-data_01-2013_03-2018.csv\"\n",
    "\n",
    "df = pd.read_csv(PATH)"
   ]
  },
  {
   "cell_type": "markdown",
   "metadata": {},
   "source": [
    "Pandas is _automatically hiding_ some columns for displaying/rendering purposes. Be sure to explore **ALL** of our data!"
   ]
  },
  {
   "cell_type": "markdown",
   "metadata": {},
   "source": [
    "## DS Process - Modified Step #2: `Ask Question(s)`"
   ]
  },
  {
   "cell_type": "markdown",
   "metadata": {},
   "source": [
    "### Looking at Data Features (Columns)"
   ]
  },
  {
   "cell_type": "code",
   "execution_count": 3,
   "metadata": {},
   "outputs": [
    {
     "data": {
      "text/plain": [
       "Index(['incident_id', 'date', 'state', 'city_or_county', 'address', 'n_killed',\n",
       "       'n_injured', 'incident_url', 'source_url',\n",
       "       'incident_url_fields_missing', 'congressional_district', 'gun_stolen',\n",
       "       'gun_type', 'incident_characteristics', 'latitude',\n",
       "       'location_description', 'longitude', 'n_guns_involved', 'notes',\n",
       "       'participant_age', 'participant_age_group', 'participant_gender',\n",
       "       'participant_name', 'participant_relationship', 'participant_status',\n",
       "       'participant_type', 'sources', 'state_house_district',\n",
       "       'state_senate_district'],\n",
       "      dtype='object')"
      ]
     },
     "execution_count": 3,
     "metadata": {},
     "output_type": "execute_result"
    }
   ],
   "source": [
    "features = df.columns\n",
    "features"
   ]
  },
  {
   "cell_type": "markdown",
   "metadata": {},
   "source": [
    "**ASSERTION**: `n_killed` and `n_injured` are powerful _target features_ for basic data questioning."
   ]
  },
  {
   "cell_type": "markdown",
   "metadata": {},
   "source": [
    "### OVERARCHING QUESTIONS:\n",
    "\n",
    "* What significance does the political affiliation (D/R) of the current president have on a given year's overall gun violence?\n",
    "\n",
    "  - (EXTERNAL DATA MANIPULATION) Needs new column mapping political affiliation of current president per year. \n",
    "\n",
    "\n",
    "* What significance does the political affiliation (D/R) of a given state have on the state's overall gun violence?\n",
    "\n",
    "  - (EXTERNAL DATA MANIPULATION) Needs new column mapping political affiliation of state governor per state per year. "
   ]
  },
  {
   "cell_type": "markdown",
   "metadata": {},
   "source": [
    "### BASIC DATA QUESTIONS:\n",
    "\n",
    "* What is the relationship between `participant_gender` and `n_killed`/`n_injured` across our data?\n",
    "* What is the relationship between `participant_age_group` and `n_killed`/`n_injured` across our data?\n",
    "* What is the relationship between `state` and `n_killed`/`n_injured` across our data?\n",
    "* What is `mean` of deaths; meaning if a gun violence were to happen the likelyhood of there being a death.\n",
    "* Which `gun_type` is more common per case?"
   ]
  },
  {
   "cell_type": "markdown",
   "metadata": {},
   "source": [
    "## DS Process - Step #3: `Explore Data`"
   ]
  },
  {
   "cell_type": "markdown",
   "metadata": {},
   "source": [
    "### First Look at Our Data"
   ]
  },
  {
   "cell_type": "code",
   "execution_count": 4,
   "metadata": {},
   "outputs": [
    {
     "data": {
      "text/html": [
       "<div>\n",
       "<style scoped>\n",
       "    .dataframe tbody tr th:only-of-type {\n",
       "        vertical-align: middle;\n",
       "    }\n",
       "\n",
       "    .dataframe tbody tr th {\n",
       "        vertical-align: top;\n",
       "    }\n",
       "\n",
       "    .dataframe thead th {\n",
       "        text-align: right;\n",
       "    }\n",
       "</style>\n",
       "<table border=\"1\" class=\"dataframe\">\n",
       "  <thead>\n",
       "    <tr style=\"text-align: right;\">\n",
       "      <th></th>\n",
       "      <th>incident_id</th>\n",
       "      <th>date</th>\n",
       "      <th>state</th>\n",
       "      <th>city_or_county</th>\n",
       "      <th>address</th>\n",
       "      <th>n_killed</th>\n",
       "      <th>n_injured</th>\n",
       "      <th>incident_url</th>\n",
       "      <th>source_url</th>\n",
       "      <th>incident_url_fields_missing</th>\n",
       "      <th>...</th>\n",
       "      <th>participant_age</th>\n",
       "      <th>participant_age_group</th>\n",
       "      <th>participant_gender</th>\n",
       "      <th>participant_name</th>\n",
       "      <th>participant_relationship</th>\n",
       "      <th>participant_status</th>\n",
       "      <th>participant_type</th>\n",
       "      <th>sources</th>\n",
       "      <th>state_house_district</th>\n",
       "      <th>state_senate_district</th>\n",
       "    </tr>\n",
       "  </thead>\n",
       "  <tbody>\n",
       "    <tr>\n",
       "      <th>0</th>\n",
       "      <td>461105</td>\n",
       "      <td>2013-01-01</td>\n",
       "      <td>Pennsylvania</td>\n",
       "      <td>Mckeesport</td>\n",
       "      <td>1506 Versailles Avenue and Coursin Street</td>\n",
       "      <td>0</td>\n",
       "      <td>4</td>\n",
       "      <td>http://www.gunviolencearchive.org/incident/461105</td>\n",
       "      <td>http://www.post-gazette.com/local/south/2013/01/17/Man-arrested-in-New-Year-s-Eve-shooting-in-McKeesport/stories/201301170275</td>\n",
       "      <td>False</td>\n",
       "      <td>...</td>\n",
       "      <td>0::20</td>\n",
       "      <td>0::Adult 18+||1::Adult 18+||2::Adult 18+||3::Adult 18+||4::Adult 18+</td>\n",
       "      <td>0::Male||1::Male||3::Male||4::Female</td>\n",
       "      <td>0::Julian Sims</td>\n",
       "      <td>NaN</td>\n",
       "      <td>0::Arrested||1::Injured||2::Injured||3::Injured||4::Injured</td>\n",
       "      <td>0::Victim||1::Victim||2::Victim||3::Victim||4::Subject-Suspect</td>\n",
       "      <td>http://pittsburgh.cbslocal.com/2013/01/01/4-people-shot-in-mckeesport/||http://www.wtae.com/news/local/allegheny/U-S-Marshals-task-force-arrests-New-Year-s-party-shooting-suspect/17977588||http://www.post-gazette.com/local/south/2013/01/17/Man-arrested-in-New-Year-s-Eve-shooting-in-McKeesport/stories/201301170275</td>\n",
       "      <td>NaN</td>\n",
       "      <td>NaN</td>\n",
       "    </tr>\n",
       "    <tr>\n",
       "      <th>1</th>\n",
       "      <td>460726</td>\n",
       "      <td>2013-01-01</td>\n",
       "      <td>California</td>\n",
       "      <td>Hawthorne</td>\n",
       "      <td>13500 block of Cerise Avenue</td>\n",
       "      <td>1</td>\n",
       "      <td>3</td>\n",
       "      <td>http://www.gunviolencearchive.org/incident/460726</td>\n",
       "      <td>http://www.dailybulletin.com/article/zz/20130105/NEWS/130109127</td>\n",
       "      <td>False</td>\n",
       "      <td>...</td>\n",
       "      <td>0::20</td>\n",
       "      <td>0::Adult 18+||1::Adult 18+||2::Adult 18+||3::Adult 18+</td>\n",
       "      <td>0::Male</td>\n",
       "      <td>0::Bernard Gillis</td>\n",
       "      <td>NaN</td>\n",
       "      <td>0::Killed||1::Injured||2::Injured||3::Injured</td>\n",
       "      <td>0::Victim||1::Victim||2::Victim||3::Victim||4::Subject-Suspect</td>\n",
       "      <td>http://losangeles.cbslocal.com/2013/01/01/man-killed-3-wounded-at-nye-party-in-hawthorne/||http://latimesblogs.latimes.com/lanow/2013/01/hawthorne-new-year-party-three-killed.html||https://usgunviolence.wordpress.com/2013/01/01/killed-man-hawthorne-ca/||http://www.dailybulletin.com/article/zz/20130105/NEWS/130109127</td>\n",
       "      <td>62.0</td>\n",
       "      <td>35.0</td>\n",
       "    </tr>\n",
       "    <tr>\n",
       "      <th>2</th>\n",
       "      <td>478855</td>\n",
       "      <td>2013-01-01</td>\n",
       "      <td>Ohio</td>\n",
       "      <td>Lorain</td>\n",
       "      <td>1776 East 28th Street</td>\n",
       "      <td>1</td>\n",
       "      <td>3</td>\n",
       "      <td>http://www.gunviolencearchive.org/incident/478855</td>\n",
       "      <td>http://chronicle.northcoastnow.com/2013/02/14/2-men-indicted-in-new-years-day-lorain-murder/</td>\n",
       "      <td>False</td>\n",
       "      <td>...</td>\n",
       "      <td>0::25||1::31||2::33||3::34||4::33</td>\n",
       "      <td>0::Adult 18+||1::Adult 18+||2::Adult 18+||3::Adult 18+||4::Adult 18+</td>\n",
       "      <td>0::Male||1::Male||2::Male||3::Male||4::Male</td>\n",
       "      <td>0::Damien Bell||1::Desmen Noble||2::Herman Seagers||3::Ladd Tate Sr||4::Tallis Moore</td>\n",
       "      <td>NaN</td>\n",
       "      <td>0::Injured, Unharmed, Arrested||1::Unharmed, Arrested||2::Killed||3::Injured||4::Injured</td>\n",
       "      <td>0::Subject-Suspect||1::Subject-Suspect||2::Victim||3::Victim||4::Victim</td>\n",
       "      <td>http://www.morningjournal.com/general-news/20130222/lorain-man-pleads-innocent-to-new-years-murder||http://chronicle.northcoastnow.com/2013/02/14/2-men-indicted-in-new-years-day-lorain-murder/</td>\n",
       "      <td>56.0</td>\n",
       "      <td>13.0</td>\n",
       "    </tr>\n",
       "    <tr>\n",
       "      <th>3</th>\n",
       "      <td>478925</td>\n",
       "      <td>2013-01-05</td>\n",
       "      <td>Colorado</td>\n",
       "      <td>Aurora</td>\n",
       "      <td>16000 block of East Ithaca Place</td>\n",
       "      <td>4</td>\n",
       "      <td>0</td>\n",
       "      <td>http://www.gunviolencearchive.org/incident/478925</td>\n",
       "      <td>http://www.dailydemocrat.com/20130106/aurora-shootout-killer-was-frenetic-talented-neighbor-says</td>\n",
       "      <td>False</td>\n",
       "      <td>...</td>\n",
       "      <td>0::29||1::33||2::56||3::33</td>\n",
       "      <td>0::Adult 18+||1::Adult 18+||2::Adult 18+||3::Adult 18+</td>\n",
       "      <td>0::Female||1::Male||2::Male||3::Male</td>\n",
       "      <td>0::Stacie Philbrook||1::Christopher Ratliffe||2::Anthony Ticali||3::Sonny Archuleta</td>\n",
       "      <td>NaN</td>\n",
       "      <td>0::Killed||1::Killed||2::Killed||3::Killed</td>\n",
       "      <td>0::Victim||1::Victim||2::Victim||3::Subject-Suspect</td>\n",
       "      <td>http://denver.cbslocal.com/2013/01/06/officer-told-neighbor-standoff-gunman-was-on-meth-binge/||http://www.westword.com/news/sonny-archuleta-triple-murder-in-aurora-guns-purchased-legally-55-57-5900504||http://www.denverpost.com/ci_22322380/aurora-shooter-was-frenetic-talented-neighbor-says||http://www.dailymail.co.uk/news/article-2258008/Sonny-Archuleta-Gunman-left-dead-latest-Aurora-shooting-lost-brother-gun-violence.html||http://www.dailydemocrat.com/20130106/aurora-shootout-killer-was-frenetic-talented-neighbor-says</td>\n",
       "      <td>40.0</td>\n",
       "      <td>28.0</td>\n",
       "    </tr>\n",
       "    <tr>\n",
       "      <th>4</th>\n",
       "      <td>478959</td>\n",
       "      <td>2013-01-07</td>\n",
       "      <td>North Carolina</td>\n",
       "      <td>Greensboro</td>\n",
       "      <td>307 Mourning Dove Terrace</td>\n",
       "      <td>2</td>\n",
       "      <td>2</td>\n",
       "      <td>http://www.gunviolencearchive.org/incident/478959</td>\n",
       "      <td>http://www.journalnow.com/news/local/article_d4c723e8-5a0f-11e2-a1fa-0019bb30f31a.html</td>\n",
       "      <td>False</td>\n",
       "      <td>...</td>\n",
       "      <td>0::18||1::46||2::14||3::47</td>\n",
       "      <td>0::Adult 18+||1::Adult 18+||2::Teen 12-17||3::Adult 18+</td>\n",
       "      <td>0::Female||1::Male||2::Male||3::Female</td>\n",
       "      <td>0::Danielle Imani Jameison||1::Maurice Eugene Edmonds, Sr.||2::Maurice Edmonds II||3::Sandra Palmer</td>\n",
       "      <td>3::Family</td>\n",
       "      <td>0::Injured||1::Injured||2::Killed||3::Killed</td>\n",
       "      <td>0::Victim||1::Victim||2::Victim||3::Subject-Suspect</td>\n",
       "      <td>http://myfox8.com/2013/01/08/update-mother-shot-14-year-old-son-two-others-before-killing-herself/||http://myfox8.com/2013/01/07/police-respond-to-report-of-triple-shooting-in-greensboro/||http://www.journalnow.com/news/local/article_d4c723e8-5a0f-11e2-a1fa-0019bb30f31a.html</td>\n",
       "      <td>62.0</td>\n",
       "      <td>27.0</td>\n",
       "    </tr>\n",
       "  </tbody>\n",
       "</table>\n",
       "<p>5 rows × 29 columns</p>\n",
       "</div>"
      ],
      "text/plain": [
       "   incident_id        date           state city_or_county  \\\n",
       "0       461105  2013-01-01    Pennsylvania     Mckeesport   \n",
       "1       460726  2013-01-01      California      Hawthorne   \n",
       "2       478855  2013-01-01            Ohio         Lorain   \n",
       "3       478925  2013-01-05        Colorado         Aurora   \n",
       "4       478959  2013-01-07  North Carolina     Greensboro   \n",
       "\n",
       "                                     address  n_killed  n_injured  \\\n",
       "0  1506 Versailles Avenue and Coursin Street         0          4   \n",
       "1               13500 block of Cerise Avenue         1          3   \n",
       "2                      1776 East 28th Street         1          3   \n",
       "3           16000 block of East Ithaca Place         4          0   \n",
       "4                  307 Mourning Dove Terrace         2          2   \n",
       "\n",
       "                                        incident_url  \\\n",
       "0  http://www.gunviolencearchive.org/incident/461105   \n",
       "1  http://www.gunviolencearchive.org/incident/460726   \n",
       "2  http://www.gunviolencearchive.org/incident/478855   \n",
       "3  http://www.gunviolencearchive.org/incident/478925   \n",
       "4  http://www.gunviolencearchive.org/incident/478959   \n",
       "\n",
       "                                                                                                                      source_url  \\\n",
       "0  http://www.post-gazette.com/local/south/2013/01/17/Man-arrested-in-New-Year-s-Eve-shooting-in-McKeesport/stories/201301170275   \n",
       "1                                                                http://www.dailybulletin.com/article/zz/20130105/NEWS/130109127   \n",
       "2                                   http://chronicle.northcoastnow.com/2013/02/14/2-men-indicted-in-new-years-day-lorain-murder/   \n",
       "3                               http://www.dailydemocrat.com/20130106/aurora-shootout-killer-was-frenetic-talented-neighbor-says   \n",
       "4                                         http://www.journalnow.com/news/local/article_d4c723e8-5a0f-11e2-a1fa-0019bb30f31a.html   \n",
       "\n",
       "   incident_url_fields_missing          ...           \\\n",
       "0                        False          ...            \n",
       "1                        False          ...            \n",
       "2                        False          ...            \n",
       "3                        False          ...            \n",
       "4                        False          ...            \n",
       "\n",
       "                     participant_age  \\\n",
       "0                              0::20   \n",
       "1                              0::20   \n",
       "2  0::25||1::31||2::33||3::34||4::33   \n",
       "3         0::29||1::33||2::56||3::33   \n",
       "4         0::18||1::46||2::14||3::47   \n",
       "\n",
       "                                                  participant_age_group  \\\n",
       "0  0::Adult 18+||1::Adult 18+||2::Adult 18+||3::Adult 18+||4::Adult 18+   \n",
       "1                0::Adult 18+||1::Adult 18+||2::Adult 18+||3::Adult 18+   \n",
       "2  0::Adult 18+||1::Adult 18+||2::Adult 18+||3::Adult 18+||4::Adult 18+   \n",
       "3                0::Adult 18+||1::Adult 18+||2::Adult 18+||3::Adult 18+   \n",
       "4               0::Adult 18+||1::Adult 18+||2::Teen 12-17||3::Adult 18+   \n",
       "\n",
       "                            participant_gender  \\\n",
       "0         0::Male||1::Male||3::Male||4::Female   \n",
       "1                                      0::Male   \n",
       "2  0::Male||1::Male||2::Male||3::Male||4::Male   \n",
       "3         0::Female||1::Male||2::Male||3::Male   \n",
       "4       0::Female||1::Male||2::Male||3::Female   \n",
       "\n",
       "                                                                                      participant_name  \\\n",
       "0                                                                                       0::Julian Sims   \n",
       "1                                                                                    0::Bernard Gillis   \n",
       "2                 0::Damien Bell||1::Desmen Noble||2::Herman Seagers||3::Ladd Tate Sr||4::Tallis Moore   \n",
       "3                  0::Stacie Philbrook||1::Christopher Ratliffe||2::Anthony Ticali||3::Sonny Archuleta   \n",
       "4  0::Danielle Imani Jameison||1::Maurice Eugene Edmonds, Sr.||2::Maurice Edmonds II||3::Sandra Palmer   \n",
       "\n",
       "   participant_relationship  \\\n",
       "0                       NaN   \n",
       "1                       NaN   \n",
       "2                       NaN   \n",
       "3                       NaN   \n",
       "4                 3::Family   \n",
       "\n",
       "                                                                         participant_status  \\\n",
       "0                               0::Arrested||1::Injured||2::Injured||3::Injured||4::Injured   \n",
       "1                                             0::Killed||1::Injured||2::Injured||3::Injured   \n",
       "2  0::Injured, Unharmed, Arrested||1::Unharmed, Arrested||2::Killed||3::Injured||4::Injured   \n",
       "3                                                0::Killed||1::Killed||2::Killed||3::Killed   \n",
       "4                                              0::Injured||1::Injured||2::Killed||3::Killed   \n",
       "\n",
       "                                                          participant_type  \\\n",
       "0           0::Victim||1::Victim||2::Victim||3::Victim||4::Subject-Suspect   \n",
       "1           0::Victim||1::Victim||2::Victim||3::Victim||4::Subject-Suspect   \n",
       "2  0::Subject-Suspect||1::Subject-Suspect||2::Victim||3::Victim||4::Victim   \n",
       "3                      0::Victim||1::Victim||2::Victim||3::Subject-Suspect   \n",
       "4                      0::Victim||1::Victim||2::Victim||3::Subject-Suspect   \n",
       "\n",
       "                                                                                                                                                                                                                                                                                                                                                                                                                                                                                                                                         sources  \\\n",
       "0                                                                                                                                                                                                                     http://pittsburgh.cbslocal.com/2013/01/01/4-people-shot-in-mckeesport/||http://www.wtae.com/news/local/allegheny/U-S-Marshals-task-force-arrests-New-Year-s-party-shooting-suspect/17977588||http://www.post-gazette.com/local/south/2013/01/17/Man-arrested-in-New-Year-s-Eve-shooting-in-McKeesport/stories/201301170275   \n",
       "1                                                                                                                                                                                                                  http://losangeles.cbslocal.com/2013/01/01/man-killed-3-wounded-at-nye-party-in-hawthorne/||http://latimesblogs.latimes.com/lanow/2013/01/hawthorne-new-year-party-three-killed.html||https://usgunviolence.wordpress.com/2013/01/01/killed-man-hawthorne-ca/||http://www.dailybulletin.com/article/zz/20130105/NEWS/130109127   \n",
       "2                                                                                                                                                                                                                                                                                                                                               http://www.morningjournal.com/general-news/20130222/lorain-man-pleads-innocent-to-new-years-murder||http://chronicle.northcoastnow.com/2013/02/14/2-men-indicted-in-new-years-day-lorain-murder/   \n",
       "3  http://denver.cbslocal.com/2013/01/06/officer-told-neighbor-standoff-gunman-was-on-meth-binge/||http://www.westword.com/news/sonny-archuleta-triple-murder-in-aurora-guns-purchased-legally-55-57-5900504||http://www.denverpost.com/ci_22322380/aurora-shooter-was-frenetic-talented-neighbor-says||http://www.dailymail.co.uk/news/article-2258008/Sonny-Archuleta-Gunman-left-dead-latest-Aurora-shooting-lost-brother-gun-violence.html||http://www.dailydemocrat.com/20130106/aurora-shootout-killer-was-frenetic-talented-neighbor-says   \n",
       "4                                                                                                                                                                                                                                                            http://myfox8.com/2013/01/08/update-mother-shot-14-year-old-son-two-others-before-killing-herself/||http://myfox8.com/2013/01/07/police-respond-to-report-of-triple-shooting-in-greensboro/||http://www.journalnow.com/news/local/article_d4c723e8-5a0f-11e2-a1fa-0019bb30f31a.html   \n",
       "\n",
       "  state_house_district state_senate_district  \n",
       "0                  NaN                   NaN  \n",
       "1                 62.0                  35.0  \n",
       "2                 56.0                  13.0  \n",
       "3                 40.0                  28.0  \n",
       "4                 62.0                  27.0  \n",
       "\n",
       "[5 rows x 29 columns]"
      ]
     },
     "execution_count": 4,
     "metadata": {},
     "output_type": "execute_result"
    }
   ],
   "source": [
    "df.head()"
   ]
  },
  {
   "cell_type": "markdown",
   "metadata": {},
   "source": [
    "### IMMEDIATE ASSERTIONS:\n",
    "\n",
    "- `incident_id` is irrelevant for our current data investigation(s).\n",
    "- `incident_url` is irrelevant for our current data investigation(s).\n",
    "- `source_url` is irrelevant for our current data investigation(s).\n",
    "- `incident_url_fields_missing` is irrelevant for our current data investigation(s).\n",
    "- `latitude` is irrelevant for our current data investigation(s).\n",
    "- `longitude` is irrelevant for our current data investigation(s).\n",
    "- `sources` is irrelevant for our current data investigation(s).\n",
    "***\n",
    "- `congressional_district` is unnecessary for now but could hold valuable information later.\n",
    "- `state_house_district` is unnecessary for now but could hold valuable information later.\n",
    "- `state_senate_district` is unnecessary for now but could hold valuable information later.\n",
    "- `notes` is unnecessary for now but could hold valuable information later.\n",
    "- `address` is unnecessary for now but could hold valuable information later.\n",
    "- `location_description` is unnecessary for now but could hold valuable information later.\n",
    "\n",
    "For our current project, we'll treat all as invaluable and drop them from our dataset."
   ]
  },
  {
   "cell_type": "markdown",
   "metadata": {},
   "source": [
    "### NOTE: _Run only once to drop relevant data._"
   ]
  },
  {
   "cell_type": "code",
   "execution_count": 5,
   "metadata": {},
   "outputs": [],
   "source": [
    "def feature_dropper(df, features_to_drop):\n",
    "    for feature in features_to_drop:\n",
    "        if feature in df.columns:\n",
    "            df.drop(columns=[feature], inplace=True)\n",
    "    return"
   ]
  },
  {
   "cell_type": "code",
   "execution_count": 6,
   "metadata": {},
   "outputs": [],
   "source": [
    "FEATURES_TO_DROP = ['incident_id', \n",
    "                    'incident_url', \n",
    "                    'source_url', \n",
    "                    'incident_url_fields_missing', \n",
    "                    'latitude',\n",
    "                    'longitude',\n",
    "                    'sources',\n",
    "                    'congressional_district',\n",
    "                    'state_house_district',\n",
    "                    'state_senate_district',\n",
    "                    'notes',\n",
    "                    'address',\n",
    "                    'location_description']"
   ]
  },
  {
   "cell_type": "code",
   "execution_count": 7,
   "metadata": {},
   "outputs": [],
   "source": [
    "feature_dropper(df, FEATURES_TO_DROP)"
   ]
  },
  {
   "cell_type": "code",
   "execution_count": 8,
   "metadata": {},
   "outputs": [
    {
     "data": {
      "text/plain": [
       "16"
      ]
     },
     "execution_count": 8,
     "metadata": {},
     "output_type": "execute_result"
    }
   ],
   "source": [
    "len(df.columns)\n",
    "\n",
    "# Raw data should have 29 columns/features.\n",
    "# Cleaned data should have 29 - len(FEATURES_TO_DROP) columns/features."
   ]
  },
  {
   "cell_type": "markdown",
   "metadata": {},
   "source": [
    "### NOTE: Replace state full name with their respective abbreviation"
   ]
  },
  {
   "cell_type": "code",
   "execution_count": 60,
   "metadata": {},
   "outputs": [],
   "source": [
    "fullname_states = sorted(df[\"state\"].unique())"
   ]
  },
  {
   "cell_type": "code",
   "execution_count": 10,
   "metadata": {},
   "outputs": [
    {
     "data": {
      "text/plain": [
       "array(['PA', 'CA', 'OH', 'CO', 'NC', 'OK', 'NM', 'LA', 'MD', 'TN', 'MO',\n",
       "       'DC', 'IL', 'DE', 'UT', 'MI', 'GA', 'IN', 'MS', 'NY', 'FL', 'WA',\n",
       "       'SC', 'AZ', 'KY', 'NJ', 'VA', 'WI', 'RI', 'TX', 'AL', 'KS', 'CT',\n",
       "       'WV', 'MN', 'NV', 'NE', 'MA', 'HI', 'NH', 'IA', 'AK', 'AR', 'ID',\n",
       "       'OR', 'WY', 'ME', 'ND', 'MT', 'VT', 'SD'], dtype=object)"
      ]
     },
     "execution_count": 10,
     "metadata": {},
     "output_type": "execute_result"
    }
   ],
   "source": [
    "abbre_states = ['AL', 'AK', 'AZ', 'AR', 'CA', 'CO', 'CT', 'DE',  'DC', 'FL', 'GA',\n",
    "          'HI', 'ID', 'IL', 'IN', 'IA', 'KS', 'KY', 'LA', 'ME', 'MD',\n",
    "          'MA', 'MI', 'MN', 'MS', 'MO', 'MT', 'NE', 'NV', 'NH', 'NJ',\n",
    "          'NM', 'NY', 'NC', 'ND', 'OH', 'OK', 'OR', 'PA', 'RI', 'SC',\n",
    "          'SD', 'TN', 'TX', 'UT', 'VT', 'VA', 'WA', 'WV', 'WI', 'WY']\n",
    "          \n",
    "          \n",
    "state_mapper = dict(zip(fullname_states, abbre_states))\n",
    "state_mapper\n",
    "\n",
    "df[\"state\"] = df[\"state\"].map(state_mapper)\n",
    "df[\"state\"].unique()\n",
    "# def change_state_fullname_to_abbreviation(df=df, state):\n",
    "#     \"\"\"This functions changes state fullnames into their respective abbreviation\"\"\"\n",
    "#     for state in df[state]:\n",
    "        \n",
    "#     return "
   ]
  },
  {
   "cell_type": "markdown",
   "metadata": {},
   "source": [
    "### NOTE: `participant_type` does not seem to map perfectly to other participant-related features. Must explore further."
   ]
  },
  {
   "cell_type": "code",
   "execution_count": 11,
   "metadata": {
    "scrolled": true
   },
   "outputs": [
    {
     "data": {
      "text/html": [
       "<div>\n",
       "<style scoped>\n",
       "    .dataframe tbody tr th:only-of-type {\n",
       "        vertical-align: middle;\n",
       "    }\n",
       "\n",
       "    .dataframe tbody tr th {\n",
       "        vertical-align: top;\n",
       "    }\n",
       "\n",
       "    .dataframe thead th {\n",
       "        text-align: right;\n",
       "    }\n",
       "</style>\n",
       "<table border=\"1\" class=\"dataframe\">\n",
       "  <thead>\n",
       "    <tr style=\"text-align: right;\">\n",
       "      <th></th>\n",
       "      <th>date</th>\n",
       "      <th>state</th>\n",
       "      <th>city_or_county</th>\n",
       "      <th>n_killed</th>\n",
       "      <th>n_injured</th>\n",
       "      <th>gun_stolen</th>\n",
       "      <th>gun_type</th>\n",
       "      <th>incident_characteristics</th>\n",
       "      <th>n_guns_involved</th>\n",
       "      <th>participant_age</th>\n",
       "      <th>participant_age_group</th>\n",
       "      <th>participant_gender</th>\n",
       "      <th>participant_name</th>\n",
       "      <th>participant_relationship</th>\n",
       "      <th>participant_status</th>\n",
       "      <th>participant_type</th>\n",
       "    </tr>\n",
       "  </thead>\n",
       "  <tbody>\n",
       "    <tr>\n",
       "      <th>239674</th>\n",
       "      <td>2018-03-31</td>\n",
       "      <td>LA</td>\n",
       "      <td>Gretna</td>\n",
       "      <td>0</td>\n",
       "      <td>1</td>\n",
       "      <td>0::Unknown</td>\n",
       "      <td>0::Unknown</td>\n",
       "      <td>Shot - Wounded/Injured</td>\n",
       "      <td>1.0</td>\n",
       "      <td>0::21</td>\n",
       "      <td>0::Adult 18+</td>\n",
       "      <td>0::Male</td>\n",
       "      <td>NaN</td>\n",
       "      <td>NaN</td>\n",
       "      <td>0::Injured</td>\n",
       "      <td>0::Victim</td>\n",
       "    </tr>\n",
       "    <tr>\n",
       "      <th>239675</th>\n",
       "      <td>2018-03-31</td>\n",
       "      <td>TX</td>\n",
       "      <td>Houston</td>\n",
       "      <td>1</td>\n",
       "      <td>0</td>\n",
       "      <td>0::Unknown</td>\n",
       "      <td>0::Unknown</td>\n",
       "      <td>Shot - Dead (murder, accidental, suicide)</td>\n",
       "      <td>1.0</td>\n",
       "      <td>0::42</td>\n",
       "      <td>0::Adult 18+</td>\n",
       "      <td>0::Male</td>\n",
       "      <td>0::Leroy Ellis</td>\n",
       "      <td>NaN</td>\n",
       "      <td>0::Killed</td>\n",
       "      <td>0::Victim</td>\n",
       "    </tr>\n",
       "    <tr>\n",
       "      <th>239676</th>\n",
       "      <td>2018-03-31</td>\n",
       "      <td>ME</td>\n",
       "      <td>Norridgewock</td>\n",
       "      <td>2</td>\n",
       "      <td>0</td>\n",
       "      <td>0::Unknown||1::Unknown</td>\n",
       "      <td>0::Handgun||1::Shotgun</td>\n",
       "      <td>Shot - Dead (murder, accidental, suicide)||Suicide^||Murder/Suicide||Domestic Violence</td>\n",
       "      <td>2.0</td>\n",
       "      <td>0::58||1::62</td>\n",
       "      <td>0::Adult 18+||1::Adult 18+</td>\n",
       "      <td>0::Female||1::Male</td>\n",
       "      <td>0::Marie Lancaster Hale||1::William Hale</td>\n",
       "      <td>1::Significant others - current or former</td>\n",
       "      <td>0::Killed||1::Killed</td>\n",
       "      <td>0::Victim||1::Subject-Suspect</td>\n",
       "    </tr>\n",
       "  </tbody>\n",
       "</table>\n",
       "</div>"
      ],
      "text/plain": [
       "              date state city_or_county  n_killed  n_injured  \\\n",
       "239674  2018-03-31    LA         Gretna         0          1   \n",
       "239675  2018-03-31    TX        Houston         1          0   \n",
       "239676  2018-03-31    ME   Norridgewock         2          0   \n",
       "\n",
       "                    gun_stolen                gun_type  \\\n",
       "239674              0::Unknown              0::Unknown   \n",
       "239675              0::Unknown              0::Unknown   \n",
       "239676  0::Unknown||1::Unknown  0::Handgun||1::Shotgun   \n",
       "\n",
       "                                                                      incident_characteristics  \\\n",
       "239674                                                                  Shot - Wounded/Injured   \n",
       "239675                                               Shot - Dead (murder, accidental, suicide)   \n",
       "239676  Shot - Dead (murder, accidental, suicide)||Suicide^||Murder/Suicide||Domestic Violence   \n",
       "\n",
       "        n_guns_involved participant_age       participant_age_group  \\\n",
       "239674              1.0           0::21                0::Adult 18+   \n",
       "239675              1.0           0::42                0::Adult 18+   \n",
       "239676              2.0    0::58||1::62  0::Adult 18+||1::Adult 18+   \n",
       "\n",
       "        participant_gender                          participant_name  \\\n",
       "239674             0::Male                                       NaN   \n",
       "239675             0::Male                            0::Leroy Ellis   \n",
       "239676  0::Female||1::Male  0::Marie Lancaster Hale||1::William Hale   \n",
       "\n",
       "                         participant_relationship    participant_status  \\\n",
       "239674                                        NaN            0::Injured   \n",
       "239675                                        NaN             0::Killed   \n",
       "239676  1::Significant others - current or former  0::Killed||1::Killed   \n",
       "\n",
       "                     participant_type  \n",
       "239674                      0::Victim  \n",
       "239675                      0::Victim  \n",
       "239676  0::Victim||1::Subject-Suspect  "
      ]
     },
     "execution_count": 11,
     "metadata": {},
     "output_type": "execute_result"
    }
   ],
   "source": [
    "df.tail(3)"
   ]
  },
  {
   "cell_type": "code",
   "execution_count": 12,
   "metadata": {},
   "outputs": [
    {
     "data": {
      "text/html": [
       "<div>\n",
       "<style scoped>\n",
       "    .dataframe tbody tr th:only-of-type {\n",
       "        vertical-align: middle;\n",
       "    }\n",
       "\n",
       "    .dataframe tbody tr th {\n",
       "        vertical-align: top;\n",
       "    }\n",
       "\n",
       "    .dataframe thead th {\n",
       "        text-align: right;\n",
       "    }\n",
       "</style>\n",
       "<table border=\"1\" class=\"dataframe\">\n",
       "  <thead>\n",
       "    <tr style=\"text-align: right;\">\n",
       "      <th></th>\n",
       "      <th>date</th>\n",
       "      <th>state</th>\n",
       "      <th>city_or_county</th>\n",
       "      <th>n_killed</th>\n",
       "      <th>n_injured</th>\n",
       "      <th>gun_stolen</th>\n",
       "      <th>gun_type</th>\n",
       "      <th>incident_characteristics</th>\n",
       "      <th>n_guns_involved</th>\n",
       "      <th>participant_age</th>\n",
       "      <th>participant_age_group</th>\n",
       "      <th>participant_gender</th>\n",
       "      <th>participant_name</th>\n",
       "      <th>participant_relationship</th>\n",
       "      <th>participant_status</th>\n",
       "      <th>participant_type</th>\n",
       "      <th>year</th>\n",
       "      <th>month</th>\n",
       "      <th>day</th>\n",
       "    </tr>\n",
       "  </thead>\n",
       "  <tbody>\n",
       "    <tr>\n",
       "      <th>239674</th>\n",
       "      <td>2018-03-31</td>\n",
       "      <td>LA</td>\n",
       "      <td>Gretna</td>\n",
       "      <td>0</td>\n",
       "      <td>1</td>\n",
       "      <td>0::Unknown</td>\n",
       "      <td>0::Unknown</td>\n",
       "      <td>Shot - Wounded/Injured</td>\n",
       "      <td>1.0</td>\n",
       "      <td>0::21</td>\n",
       "      <td>0::Adult 18+</td>\n",
       "      <td>0::Male</td>\n",
       "      <td>NaN</td>\n",
       "      <td>NaN</td>\n",
       "      <td>0::Injured</td>\n",
       "      <td>0::Victim</td>\n",
       "      <td>2018</td>\n",
       "      <td>3</td>\n",
       "      <td>31</td>\n",
       "    </tr>\n",
       "    <tr>\n",
       "      <th>239675</th>\n",
       "      <td>2018-03-31</td>\n",
       "      <td>TX</td>\n",
       "      <td>Houston</td>\n",
       "      <td>1</td>\n",
       "      <td>0</td>\n",
       "      <td>0::Unknown</td>\n",
       "      <td>0::Unknown</td>\n",
       "      <td>Shot - Dead (murder, accidental, suicide)</td>\n",
       "      <td>1.0</td>\n",
       "      <td>0::42</td>\n",
       "      <td>0::Adult 18+</td>\n",
       "      <td>0::Male</td>\n",
       "      <td>0::Leroy Ellis</td>\n",
       "      <td>NaN</td>\n",
       "      <td>0::Killed</td>\n",
       "      <td>0::Victim</td>\n",
       "      <td>2018</td>\n",
       "      <td>3</td>\n",
       "      <td>31</td>\n",
       "    </tr>\n",
       "    <tr>\n",
       "      <th>239676</th>\n",
       "      <td>2018-03-31</td>\n",
       "      <td>ME</td>\n",
       "      <td>Norridgewock</td>\n",
       "      <td>2</td>\n",
       "      <td>0</td>\n",
       "      <td>0::Unknown||1::Unknown</td>\n",
       "      <td>0::Handgun||1::Shotgun</td>\n",
       "      <td>Shot - Dead (murder, accidental, suicide)||Suicide^||Murder/Suicide||Domestic Violence</td>\n",
       "      <td>2.0</td>\n",
       "      <td>0::58||1::62</td>\n",
       "      <td>0::Adult 18+||1::Adult 18+</td>\n",
       "      <td>0::Female||1::Male</td>\n",
       "      <td>0::Marie Lancaster Hale||1::William Hale</td>\n",
       "      <td>1::Significant others - current or former</td>\n",
       "      <td>0::Killed||1::Killed</td>\n",
       "      <td>0::Victim||1::Subject-Suspect</td>\n",
       "      <td>2018</td>\n",
       "      <td>3</td>\n",
       "      <td>31</td>\n",
       "    </tr>\n",
       "  </tbody>\n",
       "</table>\n",
       "</div>"
      ],
      "text/plain": [
       "              date state city_or_county  n_killed  n_injured  \\\n",
       "239674  2018-03-31    LA         Gretna         0          1   \n",
       "239675  2018-03-31    TX        Houston         1          0   \n",
       "239676  2018-03-31    ME   Norridgewock         2          0   \n",
       "\n",
       "                    gun_stolen                gun_type  \\\n",
       "239674              0::Unknown              0::Unknown   \n",
       "239675              0::Unknown              0::Unknown   \n",
       "239676  0::Unknown||1::Unknown  0::Handgun||1::Shotgun   \n",
       "\n",
       "                                                                      incident_characteristics  \\\n",
       "239674                                                                  Shot - Wounded/Injured   \n",
       "239675                                               Shot - Dead (murder, accidental, suicide)   \n",
       "239676  Shot - Dead (murder, accidental, suicide)||Suicide^||Murder/Suicide||Domestic Violence   \n",
       "\n",
       "        n_guns_involved participant_age       participant_age_group  \\\n",
       "239674              1.0           0::21                0::Adult 18+   \n",
       "239675              1.0           0::42                0::Adult 18+   \n",
       "239676              2.0    0::58||1::62  0::Adult 18+||1::Adult 18+   \n",
       "\n",
       "        participant_gender                          participant_name  \\\n",
       "239674             0::Male                                       NaN   \n",
       "239675             0::Male                            0::Leroy Ellis   \n",
       "239676  0::Female||1::Male  0::Marie Lancaster Hale||1::William Hale   \n",
       "\n",
       "                         participant_relationship    participant_status  \\\n",
       "239674                                        NaN            0::Injured   \n",
       "239675                                        NaN             0::Killed   \n",
       "239676  1::Significant others - current or former  0::Killed||1::Killed   \n",
       "\n",
       "                     participant_type  year  month  day  \n",
       "239674                      0::Victim  2018      3   31  \n",
       "239675                      0::Victim  2018      3   31  \n",
       "239676  0::Victim||1::Subject-Suspect  2018      3   31  "
      ]
     },
     "execution_count": 12,
     "metadata": {},
     "output_type": "execute_result"
    }
   ],
   "source": [
    "df[\"year\"] = df[\"date\"].apply(lambda x: int(x.split(\"-\")[0]))\n",
    "df[\"month\"] = df[\"date\"].apply(lambda x: int(x.split(\"-\")[1]))\n",
    "df[\"day\"] = df[\"date\"].apply(lambda x: int(x.split(\"-\")[2]))\n",
    "# df.drop(columns=[\"date\"], inplace=True)\n",
    "df.tail(3)"
   ]
  },
  {
   "cell_type": "code",
   "execution_count": null,
   "metadata": {},
   "outputs": [],
   "source": []
  },
  {
   "cell_type": "code",
   "execution_count": null,
   "metadata": {},
   "outputs": [],
   "source": []
  },
  {
   "cell_type": "markdown",
   "metadata": {},
   "source": [
    "## Before we dive into `context-specific cleaning`, let's perform some `general cleaning`."
   ]
  },
  {
   "cell_type": "code",
   "execution_count": 13,
   "metadata": {},
   "outputs": [],
   "source": [
    "def show_unique_values_per_feature(feature, df=df):\n",
    "    \"\"\" Displays all unique values within a single feature in your dataset. \"\"\"\n",
    "    return df[feature].unique().tolist()"
   ]
  },
  {
   "cell_type": "code",
   "execution_count": 14,
   "metadata": {},
   "outputs": [],
   "source": [
    "def show_unique_types_per_feature(feature, df=df):\n",
    "    \"\"\" Displays all unique datatypes within a single feature in your dataset. \"\"\"\n",
    "    types = set()\n",
    "    for value in df[feature]:\n",
    "        types.update([type(value)])\n",
    "    return list(types)"
   ]
  },
  {
   "cell_type": "markdown",
   "metadata": {},
   "source": [
    "### Testing Unique Value/Type Printer Function"
   ]
  },
  {
   "cell_type": "code",
   "execution_count": 15,
   "metadata": {},
   "outputs": [],
   "source": [
    "current_feature = \"n_killed\""
   ]
  },
  {
   "cell_type": "code",
   "execution_count": 16,
   "metadata": {},
   "outputs": [
    {
     "data": {
      "text/plain": [
       "[0, 1, 4, 2, 5, 3, 6, 7, 11, 8, 9, 10, 16, 50, 27, 17]"
      ]
     },
     "execution_count": 16,
     "metadata": {},
     "output_type": "execute_result"
    }
   ],
   "source": [
    "show_unique_values_per_feature(current_feature)"
   ]
  },
  {
   "cell_type": "code",
   "execution_count": 17,
   "metadata": {},
   "outputs": [
    {
     "data": {
      "text/plain": [
       "[int]"
      ]
     },
     "execution_count": 17,
     "metadata": {},
     "output_type": "execute_result"
    }
   ],
   "source": [
    "show_unique_types_per_feature(current_feature)"
   ]
  },
  {
   "cell_type": "markdown",
   "metadata": {},
   "source": [
    "### Create Objects that Hold Relevant Unique Data"
   ]
  },
  {
   "cell_type": "code",
   "execution_count": 18,
   "metadata": {},
   "outputs": [],
   "source": [
    "RELEVANT_FEATURES = ['n_killed',\n",
    "                     'n_injured',\n",
    "                     'state',\n",
    "                     'date']"
   ]
  },
  {
   "cell_type": "code",
   "execution_count": 19,
   "metadata": {},
   "outputs": [],
   "source": [
    "relevant_unique_vals, relevant_unique_types = dict(), dict()\n",
    "\n",
    "for feature in RELEVANT_FEATURES:\n",
    "    if feature not in relevant_unique_vals:\n",
    "        relevant_unique_vals[feature] = show_unique_values_per_feature(feature)\n",
    "    if feature not in relevant_unique_types:\n",
    "        relevant_unique_types[feature] = show_unique_types_per_feature(feature)"
   ]
  },
  {
   "cell_type": "code",
   "execution_count": 20,
   "metadata": {},
   "outputs": [
    {
     "data": {
      "text/plain": [
       "[int]"
      ]
     },
     "execution_count": 20,
     "metadata": {},
     "output_type": "execute_result"
    }
   ],
   "source": [
    "relevant_unique_types['n_injured']"
   ]
  },
  {
   "cell_type": "markdown",
   "metadata": {},
   "source": [
    "## DS Process - Step #5: Data Conveying/Visualization"
   ]
  },
  {
   "cell_type": "markdown",
   "metadata": {},
   "source": [
    "#### Data Visualization works best/easiest with purely numerical data."
   ]
  },
  {
   "cell_type": "code",
   "execution_count": 21,
   "metadata": {},
   "outputs": [],
   "source": [
    "gun_deaths_by_state = df[['n_killed', 'state']]\n",
    "unique_states = gun_deaths_by_state[\"state\"].unique()\n",
    "state_death_associations = dict()\n",
    "\n",
    "for state in unique_states:\n",
    "    if state not in state_death_associations:\n",
    "        state_death_associations[state] = sum(gun_deaths_by_state[gun_deaths_by_state['state'] == state][\"n_killed\"])"
   ]
  },
  {
   "cell_type": "markdown",
   "metadata": {},
   "source": [
    "### Which State has the most gun violence?"
   ]
  },
  {
   "cell_type": "code",
   "execution_count": 22,
   "metadata": {
    "scrolled": true
   },
   "outputs": [
    {
     "data": {
      "text/plain": [
       "<BarContainer object of 51 artists>"
      ]
     },
     "execution_count": 22,
     "metadata": {},
     "output_type": "execute_result"
    },
    {
     "data": {
      "image/png": "[encoded data removed]",
      "text/plain": [
       "<Figure size 1080x1080 with 1 Axes>"
      ]
     },
     "metadata": {
      "needs_background": "light"
     },
     "output_type": "display_data"
    }
   ],
   "source": [
    "states = list(state_death_associations.keys())\n",
    "deaths = list(state_death_associations.values())\n",
    "\n",
    "plt.figure(figsize=(15, 15))\n",
    "\n",
    "plt.bar(states, deaths)"
   ]
  },
  {
   "cell_type": "markdown",
   "metadata": {},
   "source": [
    "### What year had the most gun violence?"
   ]
  },
  {
   "cell_type": "code",
   "execution_count": 59,
   "metadata": {},
   "outputs": [],
   "source": [
    "# Get the total killed and total injured for each individual year.\n",
    "# Graph each year in a line graph and see the increase or decrease in deaths and injured throughout the years\n",
    "# This will answer: which year was the most deadliest year.\n",
    "df_killed_2018 = df[(df[\"n_killed\"] >= 1) & (df[\"year\"] == 2018)]\n"
   ]
  },
  {
   "cell_type": "code",
   "execution_count": 37,
   "metadata": {},
   "outputs": [
    {
     "data": {
      "image/png": "[encoded data removed]",
      "text/plain": [
       "<Figure size 432x288 with 1 Axes>"
      ]
     },
     "metadata": {
      "needs_background": "light"
     },
     "output_type": "display_data"
    }
   ],
   "source": [
    "# Get the total of deaths and injuries for each of the states\n",
    "# graph the total by state on a bar graph\n",
    "# "
   ]
  },
  {
   "cell_type": "code",
   "execution_count": null,
   "metadata": {},
   "outputs": [],
   "source": []
  },
  {
   "cell_type": "markdown",
   "metadata": {},
   "source": [
    "# INTERESTING DATA TIDBITS\n",
    "\n",
    "***"
   ]
  },
  {
   "cell_type": "markdown",
   "metadata": {},
   "source": [
    "### NOTE: _Parkland Shooting Incident_"
   ]
  },
  {
   "cell_type": "code",
   "execution_count": null,
   "metadata": {},
   "outputs": [],
   "source": [
    "df[df[\"n_killed\"] == 17]"
   ]
  },
  {
   "cell_type": "markdown",
   "metadata": {},
   "source": [
    "### NOTE: _Orlando Nightclub Shooting_"
   ]
  },
  {
   "cell_type": "code",
   "execution_count": null,
   "metadata": {},
   "outputs": [],
   "source": [
    "df[df[\"n_killed\"] == 50]"
   ]
  },
  {
   "cell_type": "markdown",
   "metadata": {},
   "source": [
    "### NOTE: _Sutherland Springs Church Shooting_"
   ]
  },
  {
   "cell_type": "code",
   "execution_count": null,
   "metadata": {},
   "outputs": [],
   "source": [
    "df[df[\"n_killed\"] == 27]"
   ]
  },
  {
   "cell_type": "markdown",
   "metadata": {},
   "source": [
    "### NOTE: _San Bernardino Shooting_"
   ]
  },
  {
   "cell_type": "code",
   "execution_count": null,
   "metadata": {},
   "outputs": [],
   "source": [
    "df[df[\"n_killed\"] == 16]"
   ]
  },
  {
   "cell_type": "code",
   "execution_count": null,
   "metadata": {},
   "outputs": [],
   "source": []
  }
 ],
 "metadata": {
  "kernelspec": {
   "display_name": "Python 3",
   "language": "python",
   "name": "python3"
  },
  "language_info": {
   "codemirror_mode": {
    "name": "ipython",
    "version": 3
   },
   "file_extension": ".py",
   "mimetype": "text/x-python",
   "name": "python",
   "nbconvert_exporter": "python",
   "pygments_lexer": "ipython3",
   "version": "3.7.1"
  }
 },
 "nbformat": 4,
 "nbformat_minor": 2
}
